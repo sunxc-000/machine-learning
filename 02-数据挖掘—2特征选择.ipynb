{
 "cells": [
  {
   "cell_type": "markdown",
   "metadata": {},
   "source": [
    "sklearn官方文档：https://scikit-learn.org/stable/index.html  \n",
    "sklearn中文文档：http://sklearn.apachecn.org/#/"
   ]
  },
  {
   "cell_type": "code",
   "execution_count": 3,
   "metadata": {},
   "outputs": [],
   "source": [
    "import matplotlib.pyplot as plt\n",
    "import numpy as np\n",
    "import seaborn as sns\n",
    "import pandas as pd\n",
    "%matplotlib inline\n",
    "\n",
    "# 解决中文显示问题\n",
    "plt.rcParams['font.sans-serif']=['SimHei']\n",
    "plt.rcParams['axes.unicode_minus']=False"
   ]
  },
  {
   "cell_type": "markdown",
   "metadata": {},
   "source": [
    "# 特征选择的目的"
   ]
  },
  {
   "cell_type": "markdown",
   "metadata": {},
   "source": [
    "维灾难就是当特征维度超过一定界限后，分类器的性能随着特征维度的增加反而下降（而且维度越高训练模型的时间开销也会越大）。导致分类器下降的原因往往是因为这些高纬度特征中含有无关特征和冗余特征，因此特征选择的主要目的是去除特征中的无关特征和冗余特征：  \n",
    "1、无关特征：是指与当前学习任务无关的特征（该特征所提供的信息对于当前学习任务无用），如对于学生成绩而言，学号则是无关特征。  \n",
    "2、冗余特征：是指该特征所包含的信息能从其他特征推演出来，如对于“面积”这个特征而言，从能从“长”和“宽”得出，则它是冗余特征。  \n",
    "特征选择主要有两个功能：  \n",
    "1、减少特征数量、降维，使模型泛化能力更强，减少过拟合  \n",
    "2、增强对特征和特征值之间的理解  \n",
    "通常来说，从两个方面考虑来选择特征：  \n",
    "1、特征是否发散：如果一个特征不发散，例如方差接近于0，也就是说样本在这个特征上基本上没有差异，这个特征对于样本的区分并没有什么用。  \n",
    "2、特征与目标的相关性：这点比较显见，与目标相关性高的特征，应当优选选择。除方差法外，本文介绍的其他方法均从相关性考虑。  "
   ]
  },
  {
   "cell_type": "markdown",
   "metadata": {},
   "source": [
    "# 方差选择法"
   ]
  },
  {
   "cell_type": "markdown",
   "metadata": {},
   "source": [
    "这应该是最简单的特征选择方法了：假设某特征的特征值只有0和1，并且在所有输入样本中，95%的实例的该特征取值都是1，那就可以认为这个特征作用不大,可以把它作为特征选择的预处理，先去掉那些取值变化小的特征，然后后续的特征选择方法中选择合适的进行进一步的特征选择。  \n",
    "VarianceThreshold:设置一个方差阈值，没有达到这个方差阈值的特征都会被丢弃。"
   ]
  },
  {
   "cell_type": "code",
   "execution_count": 8,
   "metadata": {},
   "outputs": [],
   "source": [
    "from sklearn import datasets\n",
    "data=sns.load_dataset(\"iris\")\n",
    "data['species'] = data['species'].map(dict(zip(data['species'].unique(),range(data['species'].nunique()))))\n",
    "\n",
    "# data.var().sort_values(ascending=True)\n",
    "sel = VarianceThreshold(threshold=(.8 * (1 - .8)))\n",
    "sel.fit_transform(data)"
   ]
  },
  {
   "cell_type": "markdown",
   "metadata": {},
   "source": [
    "# Pearson相关系数"
   ]
  },
  {
   "cell_type": "markdown",
   "metadata": {},
   "source": [
    "皮尔森相关系数是一种最简单的，能帮助理解特征和响应变量之间关系的方法，该方法衡量的是变量之间的线性相关性，结果的取值区间为[-1，1]，-1表示完全的负相关(这个变量下降，那个就会上升)，+1表示完全的正相关，0表示没有线性相关。Pearson Correlation速度快、易于计算，经常在拿到数据(经过清洗和特征提取之后的)之后第一时间就执行。"
   ]
  },
  {
   "cell_type": "code",
   "execution_count": 19,
   "metadata": {
    "collapsed": true
   },
   "outputs": [
    {
     "data": {
      "text/plain": [
       "array([[ 1.        , -0.11756978,  0.87175378,  0.81794113,  0.78256123],\n",
       "       [-0.11756978,  1.        , -0.4284401 , -0.36612593, -0.42665756],\n",
       "       [ 0.87175378, -0.4284401 ,  1.        ,  0.96286543,  0.9490347 ],\n",
       "       [ 0.81794113, -0.36612593,  0.96286543,  1.        ,  0.95654733],\n",
       "       [ 0.78256123, -0.42665756,  0.9490347 ,  0.95654733,  1.        ]])"
      ]
     },
     "execution_count": 19,
     "metadata": {},
     "output_type": "execute_result"
    },
    {
     "data": {
      "text/html": [
       "<div>\n",
       "<style scoped>\n",
       "    .dataframe tbody tr th:only-of-type {\n",
       "        vertical-align: middle;\n",
       "    }\n",
       "\n",
       "    .dataframe tbody tr th {\n",
       "        vertical-align: top;\n",
       "    }\n",
       "\n",
       "    .dataframe thead th {\n",
       "        text-align: right;\n",
       "    }\n",
       "</style>\n",
       "<table border=\"1\" class=\"dataframe\">\n",
       "  <thead>\n",
       "    <tr style=\"text-align: right;\">\n",
       "      <th></th>\n",
       "      <th>sepal_length</th>\n",
       "      <th>sepal_width</th>\n",
       "      <th>petal_length</th>\n",
       "      <th>petal_width</th>\n",
       "      <th>species</th>\n",
       "    </tr>\n",
       "  </thead>\n",
       "  <tbody>\n",
       "    <tr>\n",
       "      <th>sepal_length</th>\n",
       "      <td>1.000000</td>\n",
       "      <td>-0.117570</td>\n",
       "      <td>0.871754</td>\n",
       "      <td>0.817941</td>\n",
       "      <td>0.782561</td>\n",
       "    </tr>\n",
       "    <tr>\n",
       "      <th>sepal_width</th>\n",
       "      <td>-0.117570</td>\n",
       "      <td>1.000000</td>\n",
       "      <td>-0.428440</td>\n",
       "      <td>-0.366126</td>\n",
       "      <td>-0.426658</td>\n",
       "    </tr>\n",
       "    <tr>\n",
       "      <th>petal_length</th>\n",
       "      <td>0.871754</td>\n",
       "      <td>-0.428440</td>\n",
       "      <td>1.000000</td>\n",
       "      <td>0.962865</td>\n",
       "      <td>0.949035</td>\n",
       "    </tr>\n",
       "    <tr>\n",
       "      <th>petal_width</th>\n",
       "      <td>0.817941</td>\n",
       "      <td>-0.366126</td>\n",
       "      <td>0.962865</td>\n",
       "      <td>1.000000</td>\n",
       "      <td>0.956547</td>\n",
       "    </tr>\n",
       "    <tr>\n",
       "      <th>species</th>\n",
       "      <td>0.782561</td>\n",
       "      <td>-0.426658</td>\n",
       "      <td>0.949035</td>\n",
       "      <td>0.956547</td>\n",
       "      <td>1.000000</td>\n",
       "    </tr>\n",
       "  </tbody>\n",
       "</table>\n",
       "</div>"
      ],
      "text/plain": [
       "              sepal_length  sepal_width  petal_length  petal_width   species\n",
       "sepal_length      1.000000    -0.117570      0.871754     0.817941  0.782561\n",
       "sepal_width      -0.117570     1.000000     -0.428440    -0.366126 -0.426658\n",
       "petal_length      0.871754    -0.428440      1.000000     0.962865  0.949035\n",
       "petal_width       0.817941    -0.366126      0.962865     1.000000  0.956547\n",
       "species           0.782561    -0.426658      0.949035     0.956547  1.000000"
      ]
     },
     "execution_count": 19,
     "metadata": {},
     "output_type": "execute_result"
    },
    {
     "data": {
      "text/plain": [
       "'Pearson相关系数的一个明显缺陷是，作为特征排序机制，他只对线性关系敏感。如果关系是非线性的，\\n即便两个变量具有一一对应的关系，Pearson相关性也可能会接近0。'"
      ]
     },
     "execution_count": 19,
     "metadata": {},
     "output_type": "execute_result"
    }
   ],
   "source": [
    "from sklearn import datasets\n",
    "data=sns.load_dataset(\"iris\")\n",
    "data['species'] = data['species'].map(dict(zip(data['species'].unique(),range(data['species'].nunique()))))\n",
    "# np.corrcoef(data['sepal_length'],data['sepal_width'],rowvar=0)\n",
    "np.corrcoef(data,rowvar=0)\n",
    "data.corr(method='pearson') # 自动排除类型为字符串的列\n",
    "\n",
    "\"\"\"Pearson相关系数的一个明显缺陷是，作为特征排序机制，他只对线性关系敏感。如果关系是非线性的，\n",
    "即便两个变量具有一一对应的关系，Pearson相关性也可能会接近0。\"\"\""
   ]
  },
  {
   "cell_type": "markdown",
   "metadata": {},
   "source": [
    "# 卡方检验"
   ]
  },
  {
   "cell_type": "markdown",
   "metadata": {},
   "source": [
    "经典的卡方检验是检验定性自变量对定性因变量的相关性,可以选择排名前k个的特征或排名在前k%的特征,选择的统计指标需要指定，  \n",
    "对于regression问题，使用f_regression指标;对于classification问题，可以使用chi2或者f_classif指标。"
   ]
  },
  {
   "cell_type": "code",
   "execution_count": 1,
   "metadata": {},
   "outputs": [
    {
     "data": {
      "text/plain": [
       "(150, 4)"
      ]
     },
     "execution_count": 1,
     "metadata": {},
     "output_type": "execute_result"
    },
    {
     "data": {
      "text/plain": [
       "(150, 2)"
      ]
     },
     "execution_count": 1,
     "metadata": {},
     "output_type": "execute_result"
    }
   ],
   "source": [
    "from sklearn.datasets import load_iris\n",
    "from sklearn.feature_selection import SelectKBest\n",
    "from sklearn.feature_selection import chi2\n",
    "iris = load_iris()\n",
    "X, y = iris.data, iris.target\n",
    "X.shape\n",
    "X_new = SelectKBest(chi2, k=2).fit_transform(X, y)\n",
    "X_new.shape"
   ]
  },
  {
   "cell_type": "markdown",
   "metadata": {},
   "source": [
    "# 特征选择案例"
   ]
  },
  {
   "cell_type": "code",
   "execution_count": 18,
   "metadata": {},
   "outputs": [
    {
     "data": {
      "text/plain": [
       "array([1, 1, 0, 0, 1, 1, 1, 0, 0, 1, 0, 1, 1, 0, 0, 1, 1, 1, 1, 1, 0, 1, 1,\n",
       "       0, 1, 1, 1, 0, 0, 0, 0, 1, 1, 1, 1, 1, 1, 1, 0, 0, 0, 0, 1, 0, 0, 1,\n",
       "       1, 1], dtype=int64)"
      ]
     },
     "execution_count": 18,
     "metadata": {},
     "output_type": "execute_result"
    }
   ],
   "source": [
    "data = pd.read_csv('data/featurechoose.csv',encoding = 'gb18030')\n",
    "X=data.values[:,0:3]\n",
    "y=data.values[:,3]"
   ]
  },
  {
   "cell_type": "code",
   "execution_count": 21,
   "metadata": {
    "collapsed": true
   },
   "outputs": [
    {
     "name": "stdout",
     "output_type": "stream",
     "text": [
      "原始数据： [[1 1 4]\n",
      " [1 0 3]\n",
      " [1 3 5]\n",
      " [1 1 5]\n",
      " [1 0 5]\n",
      " [1 1 1]\n",
      " [1 3 0]\n",
      " [1 2 2]\n",
      " [1 3 3]\n",
      " [1 1 4]\n",
      " [2 1 5]\n",
      " [1 3 4]\n",
      " [1 0 3]\n",
      " [1 0 3]\n",
      " [1 3 4]\n",
      " [1 0 5]\n",
      " [1 0 2]\n",
      " [1 1 5]\n",
      " [1 0 3]\n",
      " [1 2 0]\n",
      " [1 2 5]\n",
      " [1 2 3]\n",
      " [1 1 3]\n",
      " [1 1 1]\n",
      " [1 0 2]\n",
      " [1 0 1]\n",
      " [1 1 5]\n",
      " [1 2 4]\n",
      " [2 2 5]\n",
      " [1 0 4]\n",
      " [1 3 4]\n",
      " [1 1 2]\n",
      " [1 3 5]\n",
      " [2 3 5]\n",
      " [1 3 2]\n",
      " [1 0 1]\n",
      " [1 1 4]\n",
      " [1 0 1]\n",
      " [1 1 4]\n",
      " [1 1 1]\n",
      " [1 2 3]\n",
      " [1 3 4]\n",
      " [1 2 1]\n",
      " [2 2 3]\n",
      " [1 1 5]\n",
      " [1 1 5]\n",
      " [1 2 4]\n",
      " [1 2 2]]\n",
      "各特征方差： [ 0.07638889  1.15581597  2.34331597]\n",
      "方差阈值选择后的数据： [[1 4]\n",
      " [0 3]\n",
      " [3 5]\n",
      " [1 5]\n",
      " [0 5]\n",
      " [1 1]\n",
      " [3 0]\n",
      " [2 2]\n",
      " [3 3]\n",
      " [1 4]\n",
      " [1 5]\n",
      " [3 4]\n",
      " [0 3]\n",
      " [0 3]\n",
      " [3 4]\n",
      " [0 5]\n",
      " [0 2]\n",
      " [1 5]\n",
      " [0 3]\n",
      " [2 0]\n",
      " [2 5]\n",
      " [2 3]\n",
      " [1 3]\n",
      " [1 1]\n",
      " [0 2]\n",
      " [0 1]\n",
      " [1 5]\n",
      " [2 4]\n",
      " [2 5]\n",
      " [0 4]\n",
      " [3 4]\n",
      " [1 2]\n",
      " [3 5]\n",
      " [3 5]\n",
      " [3 2]\n",
      " [0 1]\n",
      " [1 4]\n",
      " [0 1]\n",
      " [1 4]\n",
      " [1 1]\n",
      " [2 3]\n",
      " [3 4]\n",
      " [2 1]\n",
      " [2 3]\n",
      " [1 5]\n",
      " [1 5]\n",
      " [2 4]\n",
      " [2 2]]\n"
     ]
    }
   ],
   "source": [
    "# 1、利用VarianceThreshold()来删除方差低于阈值的变量\n",
    "print('原始数据：',X)\n",
    "vt = VarianceThreshold(threshold=(.8 * (1 - .8)))\n",
    "Xt = vt.fit_transform(X)\n",
    "print('各特征方差：',vt.variances_)\n",
    "print('方差阈值选择后的数据：',Xt) # 这个时候，第1列就被删除了，因为它的方差低于阈值"
   ]
  },
  {
   "cell_type": "code",
   "execution_count": 22,
   "metadata": {
    "collapsed": true
   },
   "outputs": [
    {
     "name": "stdout",
     "output_type": "stream",
     "text": [
      "卡方检验各特征得分 [ 0.16138489  2.61995828  2.01656812]\n",
      "卡方检验选择后的数据 [[1 4]\n",
      " [0 3]\n",
      " [3 5]\n",
      " [1 5]\n",
      " [0 5]\n",
      " [1 1]\n",
      " [3 0]\n",
      " [2 2]\n",
      " [3 3]\n",
      " [1 4]\n",
      " [1 5]\n",
      " [3 4]\n",
      " [0 3]\n",
      " [0 3]\n",
      " [3 4]\n",
      " [0 5]\n",
      " [0 2]\n",
      " [1 5]\n",
      " [0 3]\n",
      " [2 0]\n",
      " [2 5]\n",
      " [2 3]\n",
      " [1 3]\n",
      " [1 1]\n",
      " [0 2]\n",
      " [0 1]\n",
      " [1 5]\n",
      " [2 4]\n",
      " [2 5]\n",
      " [0 4]\n",
      " [3 4]\n",
      " [1 2]\n",
      " [3 5]\n",
      " [3 5]\n",
      " [3 2]\n",
      " [0 1]\n",
      " [1 4]\n",
      " [0 1]\n",
      " [1 4]\n",
      " [1 1]\n",
      " [2 3]\n",
      " [3 4]\n",
      " [2 1]\n",
      " [2 3]\n",
      " [1 5]\n",
      " [1 5]\n",
      " [2 4]\n",
      " [2 2]]\n"
     ]
    }
   ],
   "source": [
    "# 2、利用卡方检验选择最佳特征\n",
    "transformer = SelectKBest(score_func=chi2, k=2)\n",
    "Xt_chi2 = transformer.fit_transform(X, y)\n",
    "print('卡方检验各特征得分',transformer.scores_)\n",
    "print('卡方检验选择后的数据',Xt_chi2) #最佳特征2、3列"
   ]
  },
  {
   "cell_type": "code",
   "execution_count": 23,
   "metadata": {
    "collapsed": true
   },
   "outputs": [
    {
     "name": "stdout",
     "output_type": "stream",
     "text": [
      "各特征相关系数 [ 0.21836186  0.25674323  0.24061109]\n",
      "相关系数选择后的数据 [[1 4]\n",
      " [0 3]\n",
      " [3 5]\n",
      " [1 5]\n",
      " [0 5]\n",
      " [1 1]\n",
      " [3 0]\n",
      " [2 2]\n",
      " [3 3]\n",
      " [1 4]\n",
      " [1 5]\n",
      " [3 4]\n",
      " [0 3]\n",
      " [0 3]\n",
      " [3 4]\n",
      " [0 5]\n",
      " [0 2]\n",
      " [1 5]\n",
      " [0 3]\n",
      " [2 0]\n",
      " [2 5]\n",
      " [2 3]\n",
      " [1 3]\n",
      " [1 1]\n",
      " [0 2]\n",
      " [0 1]\n",
      " [1 5]\n",
      " [2 4]\n",
      " [2 5]\n",
      " [0 4]\n",
      " [3 4]\n",
      " [1 2]\n",
      " [3 5]\n",
      " [3 5]\n",
      " [3 2]\n",
      " [0 1]\n",
      " [1 4]\n",
      " [0 1]\n",
      " [1 4]\n",
      " [1 1]\n",
      " [2 3]\n",
      " [3 4]\n",
      " [2 1]\n",
      " [2 3]\n",
      " [1 5]\n",
      " [1 5]\n",
      " [2 4]\n",
      " [2 2]]\n"
     ]
    }
   ],
   "source": [
    "# 3、利用皮尔逊(Pearson)相关系数选择最佳特征：SciPy库的pearsonr()函数\n",
    "# 定义函数\n",
    "def multivariate_pearsonr(X, y):\n",
    "    scores, pvalues = [], []\n",
    "    for column in range(X.shape[1]): #X.shape[1]返回列数\n",
    "        cur_score, cur_p = pearsonr(X[:,column], y)\n",
    "        scores.append(abs(cur_score))\n",
    "        pvalues.append(cur_p)\n",
    "    return (np.array(scores), np.array(pvalues))\n",
    "transformer = SelectKBest(score_func=multivariate_pearsonr, k=2)\n",
    "Xt_pearson = transformer.fit_transform(X, y)\n",
    "print('各特征相关系数',transformer.scores_)\n",
    "print('相关系数选择后的数据',Xt_pearson)"
   ]
  },
  {
   "cell_type": "code",
   "execution_count": 26,
   "metadata": {},
   "outputs": [
    {
     "name": "stdout",
     "output_type": "stream",
     "text": [
      "Chi2 performance: 0.440\n",
      "Pearson performance: 0.440\n"
     ]
    }
   ],
   "source": [
    "# 4、利用CART分类器，查看特征选择的准确率\n",
    "from sklearn.tree import DecisionTreeClassifier\n",
    "from sklearn.model_selection import cross_val_score\n",
    "\n",
    "clf = DecisionTreeClassifier(random_state=14)\n",
    "scores_chi2 = cross_val_score(clf, Xt_chi2, y, scoring='accuracy')\n",
    "scores_pearson = cross_val_score(clf, Xt_pearson, y, scoring='accuracy')\n",
    "\n",
    "print(\"Chi2 performance: {0:.3f}\".format(scores_chi2.mean()))\n",
    "print(\"Pearson performance: {0:.3f}\".format(scores_pearson.mean()))"
   ]
  }
 ],
 "metadata": {
  "kernelspec": {
   "display_name": "Python 3",
   "language": "python",
   "name": "python3"
  },
  "language_info": {
   "codemirror_mode": {
    "name": "ipython",
    "version": 3
   },
   "file_extension": ".py",
   "mimetype": "text/x-python",
   "name": "python",
   "nbconvert_exporter": "python",
   "pygments_lexer": "ipython3",
   "version": "3.6.5"
  },
  "toc": {
   "base_numbering": 1,
   "nav_menu": {},
   "number_sections": true,
   "sideBar": true,
   "skip_h1_title": false,
   "title_cell": "Table of Contents",
   "title_sidebar": "Contents",
   "toc_cell": false,
   "toc_position": {
    "height": "calc(100% - 180px)",
    "left": "10px",
    "top": "150px",
    "width": "165px"
   },
   "toc_section_display": true,
   "toc_window_display": false
  }
 },
 "nbformat": 4,
 "nbformat_minor": 2
}
