{
 "cells": [
  {
   "cell_type": "markdown",
   "metadata": {},
   "source": [
    "sklearn官方文档：https://scikit-learn.org/stable/index.html  \n",
    "sklearn中文文档：http://sklearn.apachecn.org/#/"
   ]
  },
  {
   "cell_type": "markdown",
   "metadata": {},
   "source": [
    "## PCA主成分分析"
   ]
  },
  {
   "cell_type": "markdown",
   "metadata": {},
   "source": [
    "PCA，即PrincipalComponents Analysis，也就是主成份分析；    \n",
    "通俗的讲，就是寻找一系列的投影方向，高维数据按照这些方向投影后其方差最大化（方差最大的即是第一主成份，方差次大的为第二主成份..."
   ]
  },
  {
   "cell_type": "code",
   "execution_count": null,
   "metadata": {},
   "outputs": [],
   "source": [
    "# X为样本特征，Y为样本簇类别， 共1000个样本，每个样本3个特征，共4个簇\n",
    "X, y = make_blobs(n_samples=10000, n_features=3, centers=[[3,3, 3], [0,0,0], [1,1,1], [2,2,2]], cluster_std=[0.2, 0.1, 0.2, 0.2],\n",
    "                  random_state =9)\n",
    "fig = plt.figure()\n",
    "# ax = Axes3D(fig, rect=[0, 0, 1, 1], elev=35, azim=20)\n",
    "plt.scatter(X[:, 0], X[:, 1], X[:, 2],marker='o')\n",
    "plt.show()"
   ]
  },
  {
   "cell_type": "code",
   "execution_count": null,
   "metadata": {},
   "outputs": [],
   "source": [
    "# 通过输出方差值人工决定降低维度数\n",
    "#查看方差分布\n",
    "pca = PCA(n_components=3)\n",
    "pca.fit(X)\n",
    "print('方差比率：',pca.explained_variance_ratio_)\n",
    "print('方差值：',pca.explained_variance_)\n",
    "#从三维降到2维\n",
    "pca = PCA(n_components=2)\n",
    "pca.fit(X)\n",
    "print('方差比率：',pca.explained_variance_ratio_)\n",
    "print('方差值：',pca.explained_variance_)\n",
    "#降维后的数据\n",
    "X_new = pca.transform(X)\n",
    "plt.scatter(X_new[:, 0], X_new[:, 1],marker='o')\n",
    "plt.show()"
   ]
  },
  {
   "cell_type": "code",
   "execution_count": null,
   "metadata": {},
   "outputs": [],
   "source": [
    "# 通过指定降维后的主成分方差和比例自动降低维度\n",
    "X1 = np.array([[-1, -1], [-2, -1], [-3, -2], [1, 1], [2, 1], [3, 2]])\n",
    "pca=PCA(n_components='mle') #n_components='mle'自动选取\n",
    "pca.fit(X1)\n",
    "X_new = pca.transform(X1)\n",
    "print('方差比率：',pca.explained_variance_ratio_)\n",
    "print('方差值：',pca.explained_variance_)\n",
    "print('维度：',pca.n_components_)\n",
    "print('降维后的值：',X_new)"
   ]
  },
  {
   "cell_type": "markdown",
   "metadata": {},
   "source": [
    "## LDA"
   ]
  }
 ],
 "metadata": {
  "kernelspec": {
   "display_name": "Python 3",
   "language": "python",
   "name": "python3"
  },
  "language_info": {
   "codemirror_mode": {
    "name": "ipython",
    "version": 3
   },
   "file_extension": ".py",
   "mimetype": "text/x-python",
   "name": "python",
   "nbconvert_exporter": "python",
   "pygments_lexer": "ipython3",
   "version": "3.6.5"
  },
  "toc": {
   "base_numbering": 1,
   "nav_menu": {},
   "number_sections": true,
   "sideBar": true,
   "skip_h1_title": false,
   "title_cell": "Table of Contents",
   "title_sidebar": "Contents",
   "toc_cell": false,
   "toc_position": {},
   "toc_section_display": true,
   "toc_window_display": true
  }
 },
 "nbformat": 4,
 "nbformat_minor": 2
}
