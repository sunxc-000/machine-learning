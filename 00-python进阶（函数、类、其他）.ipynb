{
 "cells": [
  {
   "cell_type": "markdown",
   "metadata": {},
   "source": [
    "# 函数"
   ]
  },
  {
   "cell_type": "markdown",
   "metadata": {},
   "source": [
    "## 函数的参数"
   ]
  },
  {
   "cell_type": "code",
   "execution_count": null,
   "metadata": {},
   "outputs": [],
   "source": [
    "# 位置参数\n",
    "def divide(m,n): #m、m就是两个位置参数\n",
    "    return m/n\n",
    "divide(6,3) #返回2，调用函数时，传入的6,3按照位置顺序依次赋给参数m和n，顺序不能错\n",
    "divide(n=3,m=6) #返回2，调用函数时将名称和值关联起来，此时顺序无关紧要"
   ]
  },
  {
   "cell_type": "code",
   "execution_count": null,
   "metadata": {},
   "outputs": [],
   "source": [
    "# 默认参数:默认参数必须指向不变对象！\n",
    "def divide(m,n=2): #n默认为2\n",
    "    return m/n\n",
    "divide(6) #返回3，n取默认值2\n",
    "divide(6,3) #返回2，n取实参3\n",
    "\n",
    "'''廖雪峰一个例子'''\n",
    "def add_end(L=[]):\n",
    "    L.append('END')\n",
    "    return L\n",
    "add_end() #返回['END']\n",
    "add_end() #返回['END', 'END']\n",
    "'''Python函数在定义的时候，默认参数L的值就被计算出来了，即[]，因为默认参数L也是一个变量，它指向对象[]，\n",
    "每次调用该函数，如果改变了L的内容，则下次调用时，默认参数的内容就变了，不再是函数定义时的[]了'''\n",
    "def add_end(L=None):\n",
    "    if L is None:\n",
    "        L = []\n",
    "    L.append('END')\n",
    "    return L"
   ]
  },
  {
   "cell_type": "code",
   "execution_count": null,
   "metadata": {},
   "outputs": [],
   "source": [
    "# 可变参数\n",
    "# ① 用于参数个数不确定情况,调用的时候，形参接收到的是0个或多个实参组成的一个tuple'''\n",
    "def calc(*numbers): #求平方和函数\n",
    "    sum = 0\n",
    "    for n in numbers:\n",
    "        sum = sum + n * n\n",
    "    return sum\n",
    "calc(1,2,3) #返回14，（1,2,3）组成一个tuple传递给numbers\n",
    "# ② 如果本身实参是一个list或者tuple，则在实参前面加一个*,把list或tuple的元素变成可变参数传进去'''\n",
    "nums = [1, 2, 3]\n",
    "calc(*nums) #返回14，*nums表示把nums这个list的所有元素作为可变参数传进去"
   ]
  },
  {
   "cell_type": "code",
   "execution_count": null,
   "metadata": {},
   "outputs": [],
   "source": [
    "# 关键字参数\n",
    "# ① 关键字参数允许你传入0个或任意个含参数名的参数，这些关键字参数在函数内部自动组装为一个dict'''\n",
    "def person(name, age, **kw):\n",
    "    print('name:', name, 'age:', age, 'other:', kw)\n",
    "person('Michael', 30) #name: Michael age: 30 other: {}\n",
    "person('Bob', 35, city='Bj') #name: Bob age: 35 other: {'city': 'Bj'}\n",
    "person('Adam', 45, gender='M', job='En') #name: Adam age: 45 other: {'gender': 'M', 'job': 'En'}\n",
    "# ②如果本身实参是一个dicit，则在实参前面加一个**,把dict的元素变成关键字参数传进去'''\n",
    "extra = {'city': 'Bj', 'job': 'En'}\n",
    "person('Jack', 24, **extra) #name: Jack age: 24 other: {'city': 'Bj', 'job': 'En'}\n",
    "'''**extra表示把extra这个dict的所有key-value用关键字参数传入到函数的**kw参数，kw将获得一个dict，\n",
    "注意kw获得的dict是extra的一份拷贝，对kw的改动不会影响到函数外的extra。'''"
   ]
  },
  {
   "cell_type": "code",
   "execution_count": null,
   "metadata": {},
   "outputs": [],
   "source": [
    "# 命名关键字参数：命名关键字参数需要一个特殊分隔符*，*后面的参数被视为命名关键字参数'''\n",
    "'''如果要限制关键字参数的名字，就可以用命名关键字参数，例如，只接收city和job作为关键字参数。这种方式定义的函数如下：'''\n",
    "def person(name, age, *, city, job):\n",
    "    print(name, age, city, job)\n",
    "person('Jack', 24, city='Beijing', job='Engineer') #Jack 24 Beijing Engineer\n",
    "person('Jack', 24, gender='男',city='Beijing', job='Engineer') #报错\n",
    "person('Jack', 24, 'Beijing', 'Engineer') #报错\n",
    "'''如果函数定义中已经有了一个可变参数，后面跟着的命名关键字参数就不再需要一个特殊分隔符*了：'''\n",
    "def person(name, age, *args, city, job):\n",
    "    print(name, age, args, city, job)"
   ]
  },
  {
   "cell_type": "markdown",
   "metadata": {},
   "source": [
    "## 递归函数"
   ]
  },
  {
   "cell_type": "markdown",
   "metadata": {},
   "source": [
    "如果一个函数在内部调用自身本身，这个函数就是递归函数"
   ]
  },
  {
   "cell_type": "code",
   "execution_count": null,
   "metadata": {},
   "outputs": [],
   "source": [
    "def fact(n):#计算阶乘n! = 1 x 2 x 3 x ... x n\n",
    "    if n==1:\n",
    "        return 1\n",
    "    return n * fact(n - 1)"
   ]
  },
  {
   "cell_type": "code",
   "execution_count": null,
   "metadata": {},
   "outputs": [],
   "source": [
    "# 使用递归函数需要注意防止栈溢出,解决递归调用栈溢出的方法是通过尾递归优化在函数返回的时候，调用自身本身，并且，return语句不能包含表达式\n",
    "def fact(n):\n",
    "    return fact_iter(n, 1)\n",
    "def fact_iter(num, product):\n",
    "    if num == 1:\n",
    "        return product\n",
    "    return fact_iter(num - 1, num * product)"
   ]
  },
  {
   "cell_type": "markdown",
   "metadata": {},
   "source": [
    "## 变量与函数名"
   ]
  },
  {
   "cell_type": "code",
   "execution_count": null,
   "metadata": {},
   "outputs": [],
   "source": [
    "# 函数本身也可以赋值给变量，即：变量可以指向函数。\n",
    "def cal(n):\n",
    "    return n+100\n",
    "f=cal\n",
    "f(5) #105"
   ]
  },
  {
   "cell_type": "code",
   "execution_count": null,
   "metadata": {},
   "outputs": [],
   "source": [
    "# 高阶函数:一个函数接收另一个函数作为参数传入函数\n",
    "def cal(n):\n",
    "    return n+100\n",
    "def add(x, y, f):\n",
    "    return f(x) + f(y)\n",
    "f=cal\n",
    "add(5,3,f) #208"
   ]
  },
  {
   "cell_type": "markdown",
   "metadata": {},
   "source": [
    "## map()和reduce()"
   ]
  },
  {
   "cell_type": "markdown",
   "metadata": {},
   "source": [
    "map()函数接收两个参数，一个是函数，一个是Iterable，map将传入的函数依次作用到序列的每个元素，并把结果作为新的Iterator返回  "
   ]
  },
  {
   "cell_type": "code",
   "execution_count": null,
   "metadata": {},
   "outputs": [],
   "source": [
    "def f(x):\n",
    "    return x * x\n",
    "r = map(f, [1, 2, 3, 4, 5, 6, 7, 8, 9])\n",
    "print(list(r))  #[1, 4, 9, 16, 25, 36, 49, 64, 81]\n",
    "\n",
    "list(map(str, [1, 2, 3, 4, 5, 6, 7, 8, 9]))#把这个list所有数字转为字符串"
   ]
  },
  {
   "cell_type": "markdown",
   "metadata": {},
   "source": [
    "reduce把一个函数作用在一个序列[x1, x2, x3, ...]上，把结果继续和序列的下一个元素做累积计算  \n",
    "reduce(f, [x1, x2, x3, x4]) = f(f(f(x1, x2), x3), x4)"
   ]
  },
  {
   "cell_type": "code",
   "execution_count": null,
   "metadata": {},
   "outputs": [],
   "source": [
    "from functools import reduce\n",
    "def add(x, y):\n",
    "    return x + y\n",
    "reduce(add, [1, 3, 5, 7, 9]) #25"
   ]
  },
  {
   "cell_type": "markdown",
   "metadata": {},
   "source": [
    "## filter"
   ]
  },
  {
   "cell_type": "markdown",
   "metadata": {},
   "source": [
    "filter()接收一个函数和一个序列,把传入的函数作用于每个元素，根据返回值是True还是False决定保留或丢弃该元素"
   ]
  },
  {
   "cell_type": "code",
   "execution_count": null,
   "metadata": {},
   "outputs": [],
   "source": [
    "def is_odd(n):#删掉偶数，只保留奇数\n",
    "    return n % 2 == 1\n",
    "list(filter(is_odd, [1, 2, 4, 5, 6, 9, 10, 15]))\n",
    "\n",
    "def not_empty(s):#把一个序列中的空字符串删掉\n",
    "    return s and s.strip()\n",
    "list(filter(not_empty, ['A', '', 'B', None, 'C', '  ']))"
   ]
  },
  {
   "cell_type": "markdown",
   "metadata": {},
   "source": [
    "## sorted"
   ]
  },
  {
   "cell_type": "code",
   "execution_count": null,
   "metadata": {},
   "outputs": [],
   "source": [
    "sorted([36, 5, -12, 9, -21]) #[-21, -12, 5, 9, 36]\n",
    "# sorted也是一个高阶函数，它还可以接收一个key函数来实现自定义的排序'''\n",
    "sorted([36, 5, -12, 9, -21], key=abs) #[5, 9, -12, -21, 36]\n",
    "sorted(['bob', 'about', 'Zoo', 'Credit'], key=str.lower) #['about', 'bob', 'Credit', 'Zoo']\n",
    "sorted(['bob', 'about', 'Zoo', 'Credit'], key=str.lower, reverse=True) #['Zoo', 'Credit', 'bob', 'about']"
   ]
  },
  {
   "cell_type": "markdown",
   "metadata": {},
   "source": [
    "## 匿名函数lambda"
   ]
  },
  {
   "cell_type": "markdown",
   "metadata": {},
   "source": [
    "关键字lambda表示匿名函数，一般形式是关键字lambda后面跟一个或多个参数，紧跟一个冒号，  \n",
    "冒号后是一个表达式，冒号前面的x,y,……表示函数参数，冒号后为返回值表达式  \n",
    "匿名函数有个限制，就是只能有一个表达式，不用写return，返回值就是该表达式的结果  \n",
    "用匿名函数有个好处，因为函数没有名字，不必担心函数名冲突  "
   ]
  },
  {
   "cell_type": "code",
   "execution_count": null,
   "metadata": {},
   "outputs": [],
   "source": [
    "# 单个参数形式\n",
    "func=lambda x:x+1 #等价于下面函数\n",
    "def func(x):\n",
    "    return(x+1)\n",
    "print(func(1)) #2\n",
    "# 多参数形式\n",
    "c = lambda x,y,z: x*y*z\n",
    "print(c(1,2,3))\n",
    "c=lambda x,y: x if x> y else y\n",
    "print(c(2,3))\n",
    "# 带默认参数形式\n",
    "c = lambda x,y=2: x+y #使用了默认值\n",
    "print(c(10)) #12\n",
    "# lambda与其他函数的组合（map/reduce/filter)\n",
    "from functools import reduce\n",
    "foo = [2, 18, 9, 22, 17, 24, 8, 12, 27]\n",
    "print (list(filter(lambda x: x % 3 == 0, foo))) #[18, 9, 24, 12, 27]\n",
    "print([x for x in foo if x%3 ==0]) #与上式效果一样,[18, 9, 24, 12, 27]\n",
    "print (list(map(lambda x: x * 2 + 10, foo))) #[14, 46, 28, 54, 44, 58, 26, 34, 64]\n",
    "print (reduce(lambda x, y: x + y, foo)) #139"
   ]
  },
  {
   "cell_type": "markdown",
   "metadata": {},
   "source": [
    "## 装饰器"
   ]
  },
  {
   "cell_type": "markdown",
   "metadata": {},
   "source": [
    "在代码运行期间动态增加功能的方式，称之为“装饰器”（Decorator）,本质上是一个返回函数的高阶函数"
   ]
  },
  {
   "cell_type": "code",
   "execution_count": null,
   "metadata": {},
   "outputs": [],
   "source": [
    "def log(func):\n",
    "    def wrapper(*args, **kw):\n",
    "        print('call %s():' % func.__name__)\n",
    "        return func(*args, **kw)\n",
    "    return wrapper\n",
    "@log #相当于执行now = log(now)\n",
    "def now():\n",
    "    print('2015-3-25')\n",
    "now()#输出call now():和2015-3-25两行\n",
    "'''由于log()是一个decorator，返回一个函数，所以，原来的now()函数仍然存在，只是现在同名的now变量指向了新的函数，\n",
    "于是调用now()将执行新函数，即在log()函数中返回的wrapper()函数。wrapper()函数的参数定义是(*args, **kw)，\n",
    "因此，wrapper()函数可以接受任意参数的调用。在wrapper()函数内，首先打印日志，再紧接着调用原始函数'''"
   ]
  },
  {
   "cell_type": "markdown",
   "metadata": {},
   "source": [
    "## 偏函数"
   ]
  },
  {
   "cell_type": "markdown",
   "metadata": {},
   "source": [
    "functools.partial的作用就是把一个函数的某些参数给固定住（也就是设置默认值），返回一个新的函数，调用这个新函数会更简单"
   ]
  },
  {
   "cell_type": "code",
   "execution_count": null,
   "metadata": {},
   "outputs": [],
   "source": [
    "int('12345') #12345，默认10进制\n",
    "int('12345', base=8) #8进制5349转10进制\n",
    "\n",
    "# 假设要创建一个新的函数int2，实现2进制转换\n",
    "import functools\n",
    "int2 = functools.partial(int, base=2)\n",
    "int2('1000000') #64"
   ]
  },
  {
   "cell_type": "markdown",
   "metadata": {},
   "source": [
    "# 类"
   ]
  },
  {
   "cell_type": "markdown",
   "metadata": {},
   "source": [
    "## 创建类"
   ]
  },
  {
   "cell_type": "code",
   "execution_count": null,
   "metadata": {},
   "outputs": [],
   "source": [
    "class Student():\n",
    "    def __init__(self,name,score):\n",
    "        self.name=name\n",
    "        self.score=score\n",
    "    def print_score(self):\n",
    "        print('%s,%s'%(self.name,self.score))\n",
    "    def get_grade(self):\n",
    "        if self.score>=90:\n",
    "            return 'A'\n",
    "        elif self.score>=60:\n",
    "            return 'B'\n",
    "        else:\n",
    "            return 'C'\n",
    "stu1=Student('bob',78)\n",
    "stu2=Student('Lily',96)\n",
    "print(stu1.name,stu1.get_grade())#bob B\n",
    "print(stu2.name,stu2.get_grade())#Lily A"
   ]
  },
  {
   "cell_type": "markdown",
   "metadata": {},
   "source": [
    "## 访问限制"
   ]
  },
  {
   "cell_type": "code",
   "execution_count": null,
   "metadata": {},
   "outputs": [],
   "source": [
    "# 属性的名称前加两个下划线__，变成了一个私有变量（private），只有内部可以访问，外部不能访问\n",
    "class Student():\n",
    "    def __init__(self,name,score):\n",
    "        self.__name=name\n",
    "        self.__score=score\n",
    "stu1 = Student('bob', 78)\n",
    "print(stu1.__name) #AttributeError: 'Student' object has no attribute '__name'"
   ]
  },
  {
   "cell_type": "code",
   "execution_count": null,
   "metadata": {},
   "outputs": [],
   "source": [
    "# 如果外部代码要获取name和score,可以给Student类增加get_name和get_score这样的方法\n",
    "class Student():\n",
    "    def __init__(self,name,score):\n",
    "        self.__name=name\n",
    "        self.__score=score\n",
    "    def get_name(self):\n",
    "        return self.__name\n",
    "    def get_score(self):\n",
    "        return self.__score\n",
    "stu1 = Student('bob', 78)\n",
    "print(stu1.get_name()) #bob"
   ]
  },
  {
   "cell_type": "code",
   "execution_count": null,
   "metadata": {},
   "outputs": [],
   "source": [
    "# 如果要允许外部代码修改score,可以再给Student类增加set_score方法\n",
    "class Student():\n",
    "    def __init__(self,name,score):\n",
    "        self.__name=name\n",
    "        self.__score=score\n",
    "    def get_score(self):\n",
    "        return self.__score\n",
    "    def set_score(self,score):\n",
    "        self.__score=score\n",
    "stu1 = Student('bob', 78)\n",
    "stu1.set_score(86)\n",
    "print(stu1.get_score()) #86"
   ]
  },
  {
   "cell_type": "markdown",
   "metadata": {},
   "source": [
    "## 类的继承"
   ]
  },
  {
   "cell_type": "code",
   "execution_count": null,
   "metadata": {},
   "outputs": [],
   "source": [
    "# 直接继承父类\n",
    "class Animal(object):\n",
    "    def run(self):\n",
    "        print('Animal is running...')\n",
    "class Dog(Animal):\n",
    "    pass\n",
    "class Cat(Animal):\n",
    "    pass\n",
    "dog = Dog()\n",
    "dog.run()\n",
    "cat = Cat() #Animal is running...\n",
    "cat.run() #Animal is running..."
   ]
  },
  {
   "cell_type": "code",
   "execution_count": null,
   "metadata": {},
   "outputs": [],
   "source": [
    "# 对子类增加一些方法，如果和父类同名，则覆盖父类\n",
    "class Animal(object):\n",
    "    def run(self):\n",
    "        print('Animal is running...')\n",
    "class Dog(Animal):\n",
    "    def run(self):\n",
    "        print('Dog is running...')\n",
    "class Cat(Animal):\n",
    "    def run(self):\n",
    "        print('Cat is running...')\n",
    "dog=Dog()\n",
    "dog.run() #Dog is running...\n",
    "cat=Cat()\n",
    "cat.run() #Cat is running..."
   ]
  },
  {
   "cell_type": "markdown",
   "metadata": {},
   "source": [
    "## 获取对象信息"
   ]
  },
  {
   "cell_type": "code",
   "execution_count": null,
   "metadata": {},
   "outputs": [],
   "source": [
    "# 使用isinstance()函数，可判断一个对象是否是该类型本身，或者它的父类'''\n",
    "class Animal(object):\n",
    "    def run(self):\n",
    "        print('Animal is running...')\n",
    "class Dog(Animal):\n",
    "    def run(self):\n",
    "        print('Dog is running...')\n",
    "dog=Dog()\n",
    "print(isinstance(dog,Dog)) #True\n",
    "print(isinstance(dog,Animal)) #True"
   ]
  },
  {
   "cell_type": "code",
   "execution_count": null,
   "metadata": {},
   "outputs": [],
   "source": [
    "# 使用dir()获得一个对象的所有属性和方法，返回一个包含所有属性和方法list\n",
    "print(dir('ABC')) #['__add__', '__class__', '__contains__',……]\n",
    "'''__xxx__的属性和方法在Python中都是有特殊用途的，比如__len__方法返回长度,\n",
    "调用len()函数试图获取一个对象的长度，实际上，在len()函数内部会自动调用该对象的__len__()方法'''\n",
    "len('ABC') #3\n",
    "'ABC'.__len__() #3\n",
    "\n",
    "'''我们自己写的类，如果也想用len(myObj)的话，就自己写一个__len__()方法：'''\n",
    "class MyDog(object):\n",
    "    def __len__(self):\n",
    "        return 100\n",
    "dog = MyDog()\n",
    "len(dog) #100"
   ]
  },
  {
   "cell_type": "code",
   "execution_count": null,
   "metadata": {},
   "outputs": [],
   "source": [
    "# 其他属性方法\n",
    "# getattr() #获取某个属性\n",
    "# setattr() #设置某个属性\n",
    "# hasattr() #是否有某个属性\n",
    "\n",
    "class MyObject(object):\n",
    "    def __init__(self):\n",
    "         self.x = 9\n",
    "    def power(self):\n",
    "         return self.x * self.x\n",
    "obj = MyObject()\n",
    "print(hasattr(obj, 'x')) #有属性'x'吗？ True\n",
    "print(hasattr(obj, 'y')) #有属性'x'吗？ False\n",
    "setattr(obj, 'y', 19) # 设置一个属性'y'\n",
    "print(hasattr(obj, 'y')) #True\n",
    "print( getattr(obj, 'y')) #获取属性'y'\n",
    "print(obj.y) #19"
   ]
  },
  {
   "cell_type": "markdown",
   "metadata": {},
   "source": [
    "## 实例属性和类属性"
   ]
  },
  {
   "cell_type": "code",
   "execution_count": null,
   "metadata": {},
   "outputs": [],
   "source": [
    "# 给实例绑定属性的方法是通过实例变量，或者通过self变量：\n",
    "class Student(object):\n",
    "    def __init__(self, name):\n",
    "        self.name = name\n",
    "s = Student('Bob')\n",
    "s.score = 90"
   ]
  },
  {
   "cell_type": "code",
   "execution_count": null,
   "metadata": {},
   "outputs": [],
   "source": [
    "'''如果Student类本身需要绑定一个属性,直接在class中定义属性，这种属性是类属性，归Student类所有：\n",
    "在编写程序的时候，千万不要对实例属性和类属性使用相同的名字，因为相同名称的实例属性\n",
    "将屏蔽掉类属性，但是当你删除实例属性后，再使用相同的名称，访问到的将是类属性。'''\n",
    "class Student(object):\n",
    "    name = 'Student'\n",
    "s = Student()  # 创建实例s\n",
    "print(s.name)  # 打印name属性，因为实例并没有name属性，所以会继续查找class的name属性\n",
    "#Student\n",
    "print(Student.name)  # 打印类的name属性\n",
    "#Student\n",
    "s.name = 'Michael'  # 给实例绑定name属性\n",
    "print(s.name)  # 由于实例属性优先级比类属性高，因此，它会屏蔽掉类的name属性\n",
    "#Michael\n",
    "print(Student.name)  # 但是类属性并未消失，用Student.name仍然可以访问\n",
    "#Student\n",
    "del s.name  # 如果删除实例的name属性\n",
    "print(s.name)  # 再次调用s.name，由于实例的name属性没有找到，类的name属性就显示出来了\n",
    "#Student"
   ]
  },
  {
   "cell_type": "markdown",
   "metadata": {},
   "source": [
    "## 使用__slots__限制实例的属性"
   ]
  },
  {
   "cell_type": "code",
   "execution_count": null,
   "metadata": {},
   "outputs": [],
   "source": [
    "class Student( ):\n",
    "    __slots__ = ('name', 'age') # 用tuple定义允许绑定的属性名称\n",
    "s = Student() # 创建新的实例\n",
    "s.name = 'Michael' # 绑定属性'name'\n",
    "s.age = 25 # 绑定属性'age'\n",
    "s.score = 99 # 报错 #AttributeError: 'Student' object has no attribute 'score'\n",
    "'''使用__slots__要注意，__slots__定义的属性仅对当前类实例起作用，对继承的子类是不起作用的：'''\n",
    "class GraduateStudent(Student):\n",
    "    pass\n",
    "g = GraduateStudent()\n",
    "g.score=90"
   ]
  },
  {
   "cell_type": "markdown",
   "metadata": {},
   "source": [
    "## @property把一个方法变成属性调用"
   ]
  },
  {
   "cell_type": "code",
   "execution_count": null,
   "metadata": {},
   "outputs": [],
   "source": [
    "'''正常的类定义如下：通过一个set_score()方法来设置成绩，再通过一个get_score()来获取成绩'''\n",
    "class Student(object):\n",
    "    def get_score(self):\n",
    "         return self._score\n",
    "    def set_score(self, value):\n",
    "        if not isinstance(value, int):\n",
    "            raise ValueError('score must be an integer!')\n",
    "        if value < 0 or value > 100:\n",
    "            raise ValueError('score must between 0 ~ 100!')\n",
    "        self._score = value\n",
    "s = Student()\n",
    "s.set_score(60)\n",
    "s.get_score() #60\n",
    "\n",
    "'''@property装饰器能实现把类的方法当做类属性的方式来访问'''\n",
    "'''把一个getter方法变成属性，只需要加上@property就可以了，\n",
    "此时，@property本身又创建了另一个装饰器@score.setter，负责把一个setter方法变成属性赋值'''\n",
    "class Student():\n",
    "    @property\n",
    "    def score(self):\n",
    "        return self._score\n",
    "    @score.setter\n",
    "    def score(self, value):\n",
    "        if not isinstance(value, int):\n",
    "            raise ValueError('score must be an integer!')\n",
    "        if value < 0 or value > 100:\n",
    "            raise ValueError('score must between 0 ~ 100!')\n",
    "        self._score = value\n",
    "s = Student()\n",
    "s.score=60 #以属性的方式访问类的方法\n",
    "s.score #60"
   ]
  },
  {
   "cell_type": "code",
   "execution_count": null,
   "metadata": {},
   "outputs": [],
   "source": [
    "'''还可以定义只读属性，只定义getter方法，不定义setter方法就是一个只读属性：'''\n",
    "'''下面的birth是可读写属性，而age就是一个只读属性，因为age可以根据birth和当前时间计算出来,不需要写的属性。'''\n",
    "class Student(object):\n",
    "    @property\n",
    "    def birth(self):\n",
    "        return self._birth\n",
    "    @birth.setter\n",
    "    def birth(self, value):\n",
    "        self._birth = value\n",
    "    @property\n",
    "    def age(self):\n",
    "        return 2015 - self._birth"
   ]
  },
  {
   "cell_type": "markdown",
   "metadata": {},
   "source": [
    "## 多重继承"
   ]
  },
  {
   "cell_type": "code",
   "execution_count": null,
   "metadata": {},
   "outputs": [],
   "source": [
    "class Animal(object):\n",
    "    pass\n",
    "# 大类:\n",
    "class Mammal(Animal): #哺乳类\n",
    "    pass\n",
    "class Bird(Animal): #鸟类\n",
    "    pass\n",
    "class Runnable(object):#能行走\n",
    "    def run(self):\n",
    "        print('Running...')\n",
    "class Flyable(object): #能行走\n",
    "    def fly(self):\n",
    "        print('Flying...')\n",
    "class Dog(Mammal, Runnable): #狗，同时继承哺乳和能行走两个类\n",
    "    pass\n",
    "class Parrot(Bird, Flyable): #鸽子，同时继承鸟和能飞两个类\n",
    "    pass"
   ]
  },
  {
   "cell_type": "markdown",
   "metadata": {},
   "source": [
    "## 定制类"
   ]
  },
  {
   "cell_type": "code",
   "execution_count": null,
   "metadata": {},
   "outputs": [],
   "source": [
    "'''__iter__可以使被用于for ... in循环，类似list或tuple那样，该方法返回一个迭代对象，\n",
    "for循环就会不断调用该迭代对象的__next__()方法拿到循环的下一个值，直到遇到StopIteration错误时退出循环。'''\n",
    "class Fib(object):\n",
    "    def __init__(self):\n",
    "        self.a, self.b = 0, 1 # 初始化两个计数器a，b\n",
    "    def __iter__(self):\n",
    "        return self # 实例本身就是迭代对象，故返回自己\n",
    "    def __next__(self):\n",
    "        self.a, self.b = self.b, self.a + self.b # 计算下一个值\n",
    "        if self.a > 100000: # 退出循环的条件\n",
    "            raise StopIteration()\n",
    "        return self.a # 返回下一个值\n",
    "for n in Fib():\n",
    "    print(n) #1,1,2,3,5,8……"
   ]
  },
  {
   "cell_type": "code",
   "execution_count": null,
   "metadata": {},
   "outputs": [],
   "source": [
    "'''__getitem__可以使类像list那样按照下标取出元素'''\n",
    "class Fib(object):\n",
    "    def __getitem__(self, n):\n",
    "        a, b = 1, 1\n",
    "        for x in range(n):\n",
    "            a, b = b, a + b\n",
    "        return a\n",
    "f = Fib()\n",
    "f[0] #1\n",
    "f[1] #1\n",
    "f[2] #2"
   ]
  },
  {
   "cell_type": "markdown",
   "metadata": {},
   "source": [
    "## 枚举类"
   ]
  },
  {
   "cell_type": "code",
   "execution_count": null,
   "metadata": {},
   "outputs": [],
   "source": [
    "from enum import Enum\n",
    "Month = Enum('Month', ('Jan', 'Feb', 'Mar', 'Apr', 'May', 'Jun', 'Jul', 'Aug', 'Sep', 'Oct', 'Nov', 'Dec'))\n",
    "for name, member in Month.__members__.items():\n",
    "    print(name, '=>', member, ',', member.value)\n",
    "'''这样我们就获得了Month类型的枚举类，可以直接使用Month.Jan来引用一个常量，或者枚举它的所有成员：\n",
    "value属性则是自动赋给成员的int常量，默认从1开始计数。'''"
   ]
  },
  {
   "cell_type": "markdown",
   "metadata": {},
   "source": [
    "## 元类"
   ]
  },
  {
   "cell_type": "markdown",
   "metadata": {},
   "source": [
    "# 其他"
   ]
  },
  {
   "cell_type": "markdown",
   "metadata": {},
   "source": [
    "## 错误处理"
   ]
  },
  {
   "cell_type": "code",
   "execution_count": null,
   "metadata": {},
   "outputs": [],
   "source": [
    "'''当我们认为某些代码可能会出错时，就可以用try来运行这段代码，如果执行出错，则后续代码不会继续执行，\n",
    "而是直接跳转至错误处理except语句块，执行完except后，如果有finally语句块，则执行finally语句块'''\n",
    "def divid(i):\n",
    "    try:\n",
    "        print('try...')\n",
    "        r = 10 / i\n",
    "        print('result:', r)\n",
    "    except ZeroDivisionError as e:\n",
    "        print('except:', e)\n",
    "    finally:\n",
    "        print('finally...')\n",
    "    print('END')\n",
    "divid(0)\n",
    "# try...\n",
    "# except: division by zero\n",
    "# finally...\n",
    "# END\n",
    "'''当错误发生时，后续语句print('result:', r)不会被执行，except由于捕获到ZeroDivisionError,\n",
    "因此被执行。最后，finally语句被执行。然后，程序继续按照流程往下走。'''\n",
    "divid(5)\n",
    "# try...\n",
    "# result: 2.0\n",
    "# finally...\n",
    "# END\n",
    "'''由于没有错误发生，所以except语句块不会被执行，但是finally如果有，则一定会被执行（可以没有finally语句）。'''"
   ]
  },
  {
   "cell_type": "code",
   "execution_count": null,
   "metadata": {},
   "outputs": [],
   "source": [
    "'''可以有多个except来捕获不同类型的错误,如果没有错误发生，可以在except语句块后面加一个else，没有错误时自动执行else语句：'''\n",
    "try:\n",
    "    print('try...')\n",
    "    r = 10 / int('2')\n",
    "    print('result:', r)\n",
    "except ValueError as e:\n",
    "    print('ValueError:', e)\n",
    "except ZeroDivisionError as e:\n",
    "    print('ZeroDivisionError:', e)\n",
    "else:\n",
    "    print('no error!')\n",
    "finally:\n",
    "    print('finally...')\n",
    "print('END')"
   ]
  },
  {
   "cell_type": "code",
   "execution_count": null,
   "metadata": {},
   "outputs": [],
   "source": [
    "'''在使用except时需要注意的是，它不但捕获该类型的错误，还把其子类也“一网打尽”。\n",
    "下面的列子第二个except永远也捕获不到UnicodeError，因为UnicodeError是ValueError的子类，如果有，也被第一个except给捕获了。'''\n",
    "try:\n",
    "    foo()\n",
    "except ValueError as e:\n",
    "    print('ValueError')\n",
    "except UnicodeError as e:\n",
    "    print('UnicodeError')"
   ]
  },
  {
   "cell_type": "code",
   "execution_count": null,
   "metadata": {},
   "outputs": [],
   "source": [
    "'''logging模块记录错误：如果不捕获错误，自然可以让Python解释器来打印出错误堆栈，但程序也被结束了。\n",
    "既然我们能捕获错误，就可以把错误堆栈打印出来，然后分析错误原因，同时，让程序继续执行下去。'''\n",
    "import logging\n",
    "def foo(s):\n",
    "    return 10 / int(s)\n",
    "def bar(s):\n",
    "    return foo(s) * 2\n",
    "def main():\n",
    "    try:\n",
    "        bar('0')\n",
    "    except Exception as e:\n",
    "        logging.exception(e)\n",
    "main()\n",
    "print('END') #虽然有错误，正常输出"
   ]
  },
  {
   "cell_type": "markdown",
   "metadata": {},
   "source": [
    "## 文件的读写"
   ]
  },
  {
   "cell_type": "markdown",
   "metadata": {},
   "source": [
    "read() 以原格式返回全部文本  \n",
    "readline() 只返回第一行文本  \n",
    "readlines() 以列表的格式返回全部文本，文本的第几行对应列表的第几个元素  "
   ]
  },
  {
   "cell_type": "code",
   "execution_count": null,
   "metadata": {},
   "outputs": [],
   "source": [
    "# 文件的读取\n",
    "filename = 'write_data.txt'\n",
    "with open(filename,'r') as f:\n",
    "    for line in f.readlines(): #readlines()一次性读取所有行，返回一个大列表，每行数据以一个大字符串的形式作为一个列表元素\n",
    "        print(line.rstrip()) #rstrip()去掉右侧空白符\n",
    "        print(line.rstrip().split(' ')) #split将大字符串中每个单词进行分割，返回一个列表"
   ]
  },
  {
   "cell_type": "code",
   "execution_count": null,
   "metadata": {},
   "outputs": [],
   "source": [
    "# 文件的写入\n",
    "'''以'w'模式写入文件时，如果文件已存在，会直接覆盖。可以传入'a'以追加（append）模式写入'''\n",
    "filename = 'write_data.txt'\n",
    "with open(filename,'w') as f: # 如果filename不存在会自动创建， 'w'表示写数据，写之前会清空文件中的原有数据！\n",
    "    f.write(\"I am Meringue.\\n\")\n",
    "    f.write(\"I am now studying in NJTECH.\\n\")\n",
    "    f.write(\"I am lily\\n\")"
   ]
  },
  {
   "cell_type": "code",
   "execution_count": null,
   "metadata": {},
   "outputs": [],
   "source": [
    "# 二进制文件\n",
    "'''要读取二进制文件，比如图片、视频等等，用'rb'模式打开文件,'wb'表示写二进制文件：'''\n",
    "f = open('/Users/michael/test.jpg', 'rb')\n",
    "f.read()\n",
    "f.close()"
   ]
  },
  {
   "cell_type": "code",
   "execution_count": null,
   "metadata": {},
   "outputs": [],
   "source": [
    "# 字符编码\n",
    "'''要读取非UTF-8编码的文本文件，需要给open()函数传入encoding参数，例如，读取GBK编码的文件：'''\n",
    "f = open('/Users/michael/gbk.txt', 'r', encoding='gbk')\n",
    "f.read()\n",
    "'''遇到有些编码不规范的文件，你可能会遇到UnicodeDecodeError，因为在文本文件中可能夹杂了一些非法编码的字符。\n",
    "遇到这种情况，open()函数还接收一个errors参数，表示如果遇到编码错误后如何处理。最简单的方式是直接忽略：'''\n",
    "f = open('/Users/michael/gbk.txt', 'r', encoding='gbk', errors='ignore')"
   ]
  },
  {
   "cell_type": "markdown",
   "metadata": {},
   "source": [
    "## 操作文件和目录"
   ]
  },
  {
   "cell_type": "code",
   "execution_count": null,
   "metadata": {},
   "outputs": [],
   "source": [
    "# os模块的基本功能：\n",
    "import os\n",
    "os.name # nt 说明windows系统\n",
    "os.environ # 环境变量，返回一个字典  environ({'ALLUSERSPROFILE': 'C:\\\\ProgramData', ……)\n",
    "os.environ.get('PATH') #获取某个环境变量的值os.environ.get('key')"
   ]
  },
  {
   "cell_type": "code",
   "execution_count": null,
   "metadata": {},
   "outputs": [],
   "source": [
    "# 查看、创建和删除目录\n",
    "import os\n",
    "os.path.abspath('.') #查看当前目录的绝对路径 #\"C:\\Program Files\\python36\\python.exe\" E:/PythonCoding/python/python_03.py\n",
    "# 在某个目录下创建一个新目录，首先把新目录的完整路径表示出来:\n",
    "os.path.join('/Users/michael', 'testdir') #'/Users/michael/testdir'\n",
    "# 然后创建一个目录:\n",
    "os.mkdir('/Users/michael/testdir')\n",
    "# 删掉一个目录:\n",
    "os.rmdir('/Users/michael/testdir')"
   ]
  },
  {
   "cell_type": "code",
   "execution_count": null,
   "metadata": {},
   "outputs": [],
   "source": [
    "# 路径合并与拆分\n",
    "# 路径合并os.path.join()，路径拆分os.path.split()，os.path.splitext()可以直接得到文件扩展名\n",
    "import os\n",
    "os.path.join('/Users/michael', 'testdir')\n",
    "#'/Users/michael/testdir'\n",
    "os.path.split('/Users/michael/testdir/file.txt')\n",
    "# ('/Users/michael/testdir', 'file.txt')\n",
    "os.path.splitext('/path/to/file.txt')\n",
    "# ('/path/to/file', '.txt')"
   ]
  },
  {
   "cell_type": "code",
   "execution_count": null,
   "metadata": {},
   "outputs": [],
   "source": [
    "# 文件操作\n",
    "# 对文件重命名:\n",
    "os.rename('test.txt', 'test.py')\n",
    "# 删掉文件:\n",
    "os.remove('test.py')\n",
    "# 利用Python的特性来过滤文件。比如我们要列出当前目录下的所有目录，只需要一行代码：\n",
    "[x for x in os.listdir('.') if os.path.isdir(x)]\n",
    "# ['.lein', '.local', '.m2', '.npm', '.ssh', '.Trash', '.vim', 'Applications', 'Desktop', ...]\n",
    "# 要列出所有的.py文件，也只需一行代码：\n",
    "[x for x in os.listdir('.') if os.path.isfile(x) and os.path.splitext(x)[1]=='.py']\n",
    "# ['apis.py', 'config.py', 'models.py', 'pymonitor.py', 'test_db.py', 'urls.py', 'wsgiapp.py']"
   ]
  },
  {
   "cell_type": "markdown",
   "metadata": {},
   "source": [
    "## 序列化"
   ]
  },
  {
   "cell_type": "markdown",
   "metadata": {},
   "source": [
    "把变量从内存中变成可存储或传输的过程称之为序列化pickling,序列化之后，就可以把序列化后的内容写入磁盘或者传输到别的机器上\n",
    "反过来，把变量内容从序列化的对象重新读到内存里称之为反序列化，即unpickling"
   ]
  },
  {
   "cell_type": "code",
   "execution_count": null,
   "metadata": {},
   "outputs": [],
   "source": [
    "# pickle\n",
    "'''pickle.dumps()方法把任意对象序列化成一个bytes，然后，就可以把这个bytes写入文件'''\n",
    "import pickle\n",
    "d = dict(name='Bob', age=20, score=88)\n",
    "pickle.dumps(d)\n",
    "b'\\x80\\x03}q\\x00(X\\x03\\x00\\x00\\x00ageq\\x01K\\x14X\\x05\\x00\\x00\\x00scoreq\\x02KXX\\x04\\x00\\x00\\x00nameq\\x03X\\x03\\x00\\x00\\x00Bobq\\x04u.'\n",
    "\n",
    "'''另一个方法pickle.dump()直接把对象序列化后写入一个file-like Object：'''\n",
    "import pickle\n",
    "d = dict(name='Bob', age=20, score=88)\n",
    "f = open('dump.txt', 'wb')\n",
    "pickle.dump(d, f)\n",
    "f.close()\n",
    "'''当我们要把对象从磁盘读到内存时，可以先把内容读到一个bytes，然后用pickle.loads()方法反序列化出对象，\n",
    "也可以直接用pickle.load()方法从一个file-like Object中直接反序列化出对象。'''\n",
    "import pickle\n",
    "f = open('dump.txt', 'rb')\n",
    "d = pickle.load(f)\n",
    "f.close()\n",
    "d\n",
    "# {'age': 20, 'score': 88, 'name': 'Bob'}"
   ]
  },
  {
   "cell_type": "code",
   "execution_count": null,
   "metadata": {},
   "outputs": [],
   "source": [
    "# JSON\n",
    "'''如果我们要在不同的编程语言之间传递对象，就必须把对象序列化为标准格式，比如XML，但更好的方法是序列化为JSON，\n",
    "因为JSON表示出来就是一个字符串，可以被所有语言读取，也可以方便地存储到磁盘或者通过网络传输。JSON不仅是标准格式，\n",
    "并且比XML更快，而且可以直接在Web页面中读取，非常方便。'''\n",
    "import json\n",
    "d = dict(name='Bob', age=20, score=88)\n",
    "json.dumps(d) #dumps()方法返回一个str，内容就是标准的JSON。类似的，dump()方法可以直接把JSON写入一个file-like Object。\n",
    "# '{\"age\": 20, \"score\": 88, \"name\": \"Bob\"}'\n",
    "json_str = '{\"age\": 20, \"score\": 88, \"name\": \"Bob\"}'\n",
    "json.loads(json_str) #用loads()或者对应的load()方法，前者把JSON的字符串反序列化，后者从file-like Object中读取字符串并反序列化：\n",
    "# {'age': 20, 'score': 88, 'name': 'Bob'}"
   ]
  }
 ],
 "metadata": {
  "kernelspec": {
   "display_name": "Python 3",
   "language": "python",
   "name": "python3"
  },
  "language_info": {
   "codemirror_mode": {
    "name": "ipython",
    "version": 3
   },
   "file_extension": ".py",
   "mimetype": "text/x-python",
   "name": "python",
   "nbconvert_exporter": "python",
   "pygments_lexer": "ipython3",
   "version": "3.6.5"
  },
  "toc": {
   "base_numbering": 1,
   "nav_menu": {},
   "number_sections": true,
   "sideBar": true,
   "skip_h1_title": false,
   "title_cell": "Table of Contents",
   "title_sidebar": "Contents",
   "toc_cell": false,
   "toc_position": {},
   "toc_section_display": true,
   "toc_window_display": true
  }
 },
 "nbformat": 4,
 "nbformat_minor": 2
}
