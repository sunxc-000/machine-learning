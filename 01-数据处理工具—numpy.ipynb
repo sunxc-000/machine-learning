{
 "cells": [
  {
   "cell_type": "markdown",
   "metadata": {},
   "source": [
    "# numpy概述"
   ]
  },
  {
   "cell_type": "markdown",
   "metadata": {},
   "source": [
    "numpy（Numerical Python）提供了python对多维数组对象的支持：ndarray，具有矢量运算能力，快速、节省空间。numpy支持高级大量的维度数组与矩阵运算，此外也针对数组运算提供大量的数学函数库。"
   ]
  },
  {
   "cell_type": "markdown",
   "metadata": {},
   "source": [
    "# 数组创建"
   ]
  },
  {
   "cell_type": "code",
   "execution_count": 25,
   "metadata": {},
   "outputs": [],
   "source": [
    "#根据数值创建数组\n",
    "import numpy as np\n",
    "a = np.array([1, 2, 3, 4]) #列表方式\n",
    "b = np.array((5, 6, 7, 8)) #元祖方式\n",
    "c = np.array([[1,2,3],[2,3,4]]) #多维数组\n",
    "d = np.array([1,2,3],dtype=np.float) #设定数组元素类型为int/float"
   ]
  },
  {
   "cell_type": "code",
   "execution_count": 26,
   "metadata": {},
   "outputs": [],
   "source": [
    "#快速创建数组\n",
    "import numpy as np\n",
    "a=np.zeros((4,3)) #0数组\n",
    "b=np.ones((4,3)) #1数组\n",
    "c=np.arange(12) #默认从0开始到11的数组\n",
    "d=np.arange(10,20) #元素为10到19的数组\n",
    "e=np.arange(10,20,2) #元素为10到19,间隔为2的数组\n",
    "f=np.arange(12).reshape((3,4))\n",
    "g=np.linspace(1,10,50) #生成1到10，均匀分成5段的数列(默认50段）"
   ]
  },
  {
   "cell_type": "code",
   "execution_count": 7,
   "metadata": {},
   "outputs": [
    {
     "data": {
      "text/plain": [
       "array([[ 0.38236443,  0.80607297,  0.31303243,  0.30638863,  0.17955938,\n",
       "         0.55446301,  0.24505056,  0.64499654,  0.77934218,  0.08770291],\n",
       "       [ 0.58526361,  0.64666954,  0.42587605,  0.30729551,  0.57435521,\n",
       "         0.19592272,  0.71556856,  0.86258205,  0.0230364 ,  0.48001744]])"
      ]
     },
     "execution_count": 7,
     "metadata": {},
     "output_type": "execute_result"
    }
   ],
   "source": [
    "# 创建随机数组\n",
    "import numpy as np\n",
    "# randn：np.random.randn(d0,d1,d2……dn) 返回一个或一组服从标准正态分布的随机样本值\n",
    "a = np.random.randn(2,4)\n",
    "\n",
    "# rand: np.random.rand(d0,d1,d2……dn)  返回一个或一组服从“0~1”均匀分布的随机样本值\n",
    "b = np.random.rand(2,4) \n",
    "\n",
    "# random：np.random.random(size) 返回随机的浮点数，在半开区间 [0.0, 1.0),size为2个元素的列表时，返回二维数组\n",
    "c = np.random.random(4) #随机的数组（0到1之间，不包括1）\n",
    "\n",
    "# randint：numpy.random.randint(low, high=None, size=None, dtype=’l’) #返回随机整数或整型数组，范围区间为[low,high），包含low，不包含high；high没有填写时，默认生成随机数的范围是[0，low）\n",
    "d = np.random.randint(1) \n",
    "\n",
    "# uniform：numpy.random.uniform(low,high,size)从一个均匀分布[low,high)中随机采样，注意定义域是左闭右开,size为2个元素的列表时，返回二维数组\n",
    "e = np.random.uniform(0,1,10)"
   ]
  },
  {
   "cell_type": "markdown",
   "metadata": {},
   "source": [
    "# 数组属性"
   ]
  },
  {
   "cell_type": "code",
   "execution_count": 28,
   "metadata": {},
   "outputs": [
    {
     "name": "stdout",
     "output_type": "stream",
     "text": [
      "维度： 2\n",
      "形状： (2, 3)\n",
      "元素个数 6\n",
      "数据类型 int32\n"
     ]
    }
   ],
   "source": [
    "import numpy as np\n",
    "a = np.array([[1,2,3],[2,3,4]])\n",
    "print('维度：',a.ndim) #返回数组维度\n",
    "print('形状：',a.shape) #数组形状\n",
    "print('元素个数',a.size) #元素个数\n",
    "print('数据类型',a.dtype) #元素类型"
   ]
  },
  {
   "cell_type": "markdown",
   "metadata": {},
   "source": [
    "# 数组计算"
   ]
  },
  {
   "cell_type": "code",
   "execution_count": 29,
   "metadata": {},
   "outputs": [
    {
     "data": {
      "text/plain": [
       "array([ True,  True,  True, False], dtype=bool)"
      ]
     },
     "execution_count": 29,
     "metadata": {},
     "output_type": "execute_result"
    }
   ],
   "source": [
    "#加、减、乘、除、平方、点乘、判断\n",
    "import numpy as np\n",
    "a = np.array([10,20,30,40])\n",
    "b = np.arange(4)\n",
    "c = a+b #对应元素相加、减、乘、除\n",
    "d = a*b #对应元素相加、减、乘、除\n",
    "e = b**2 #每个元素的平方\n",
    "f = np.dot(a,b)#点乘，矩阵的运算\n",
    "g = b<3 #对每个元素做判断，返回每个元素的true和false值\n",
    "g"
   ]
  },
  {
   "cell_type": "markdown",
   "metadata": {},
   "source": [
    "# 数组操作"
   ]
  },
  {
   "cell_type": "markdown",
   "metadata": {},
   "source": [
    "## 最大、最小、求和、平均值、索引"
   ]
  },
  {
   "cell_type": "code",
   "execution_count": 30,
   "metadata": {},
   "outputs": [],
   "source": [
    "import numpy as np\n",
    "a = np.array([[1,2,3],[7,8,9]])\n",
    "b = np.sum(a) #总和,可指定axis=1或0，按照行/列计算\n",
    "c = np.min(a) #最小值,可指定axis=1或0，按照行/列计算\n",
    "d = np.max(a) #最大值,可指定axis=1或0，按照行/列计算\n",
    "e = np.argmin(a) #最小值的索引，可指定axis=1或0，按照行/列计算\n",
    "f = np.argmax(a) #最大值的索引，可指定axis=1或0，按照行/列计算\n",
    "g = np.mean(a) #平均值，可指定axis=1或0，按照行/列计算"
   ]
  },
  {
   "cell_type": "markdown",
   "metadata": {},
   "source": [
    "## 排序、转置、展平、格式转换"
   ]
  },
  {
   "cell_type": "code",
   "execution_count": 2,
   "metadata": {
    "collapsed": true
   },
   "outputs": [
    {
     "data": {
      "text/plain": [
       "array([[1, 2, 3],\n",
       "       [7, 8, 9]])"
      ]
     },
     "execution_count": 2,
     "metadata": {},
     "output_type": "execute_result"
    },
    {
     "data": {
      "text/plain": [
       "array([[1, 7],\n",
       "       [3, 9],\n",
       "       [2, 8]])"
      ]
     },
     "execution_count": 2,
     "metadata": {},
     "output_type": "execute_result"
    },
    {
     "data": {
      "text/plain": [
       "array([[1, 7],\n",
       "       [3, 9],\n",
       "       [2, 8]])"
      ]
     },
     "execution_count": 2,
     "metadata": {},
     "output_type": "execute_result"
    },
    {
     "data": {
      "text/plain": [
       "array([1, 3, 2, 7, 9, 8])"
      ]
     },
     "execution_count": 2,
     "metadata": {},
     "output_type": "execute_result"
    },
    {
     "data": {
      "text/plain": [
       "dtype('float64')"
      ]
     },
     "execution_count": 2,
     "metadata": {},
     "output_type": "execute_result"
    }
   ],
   "source": [
    "import numpy as np\n",
    "a = np.array([[1,3,2],[7,9,8]])\n",
    "np.sort(a) #排序\n",
    "np.transpose(a) #转置\n",
    "a.T #转置\n",
    "a.flatten() #展平\n",
    "b=a.astype(np.float64)\n",
    "b.dtype"
   ]
  },
  {
   "cell_type": "markdown",
   "metadata": {},
   "source": [
    "## 合并"
   ]
  },
  {
   "cell_type": "code",
   "execution_count": 32,
   "metadata": {},
   "outputs": [],
   "source": [
    "import numpy as np\n",
    "a = np.array([1,1,1])\n",
    "b = np.array([2,2,2])\n",
    "c = np.vstack((a,b)) #纵向合并\n",
    "d = np.hstack((a,b)) #横向合并"
   ]
  },
  {
   "cell_type": "markdown",
   "metadata": {},
   "source": [
    "## 过滤"
   ]
  },
  {
   "cell_type": "code",
   "execution_count": 38,
   "metadata": {},
   "outputs": [
    {
     "data": {
      "text/plain": [
       "array([[ True,  True,  True, False],\n",
       "       [False, False, False, False],\n",
       "       [False, False, False, False]], dtype=bool)"
      ]
     },
     "execution_count": 38,
     "metadata": {},
     "output_type": "execute_result"
    },
    {
     "data": {
      "text/plain": [
       "array([0, 1, 2])"
      ]
     },
     "execution_count": 38,
     "metadata": {},
     "output_type": "execute_result"
    }
   ],
   "source": [
    "#可以使用一个numpy数组作为索引数组去过滤原数组,索引数组里为true的值,保留,为false的值去掉\n",
    "import numpy as np\n",
    "a = np.arange(12).reshape((3,4))\n",
    "b = a<3\n",
    "c = a[b]\n",
    "b\n",
    "c"
   ]
  },
  {
   "cell_type": "markdown",
   "metadata": {},
   "source": [
    "# 数组复制"
   ]
  },
  {
   "cell_type": "code",
   "execution_count": 34,
   "metadata": {},
   "outputs": [
    {
     "data": {
      "text/plain": [
       "array([6, 1, 2, 3])"
      ]
     },
     "execution_count": 34,
     "metadata": {},
     "output_type": "execute_result"
    },
    {
     "data": {
      "text/plain": [
       "array([6, 1, 2, 3])"
      ]
     },
     "execution_count": 34,
     "metadata": {},
     "output_type": "execute_result"
    },
    {
     "data": {
      "text/plain": [
       "array([ 6, 10,  2,  3])"
      ]
     },
     "execution_count": 34,
     "metadata": {},
     "output_type": "execute_result"
    },
    {
     "data": {
      "text/plain": [
       "array([ 6, 10,  2,  3])"
      ]
     },
     "execution_count": 34,
     "metadata": {},
     "output_type": "execute_result"
    }
   ],
   "source": [
    "#浅复制，两个数据一起变动\n",
    "a=np.array([0,1,2,3])\n",
    "b=a\n",
    "a[0]=6\n",
    "a #[6 1 2 3]\n",
    "b #[6 1 2 3] 改变a,b也跟着改变\n",
    "b[1]=10\n",
    "b #[ 6 10  2  3]\n",
    "a #[ 6 10  2  3]改变b,a也跟着改变"
   ]
  },
  {
   "cell_type": "code",
   "execution_count": 35,
   "metadata": {},
   "outputs": [
    {
     "data": {
      "text/plain": [
       "array([6, 1, 2, 3])"
      ]
     },
     "execution_count": 35,
     "metadata": {},
     "output_type": "execute_result"
    },
    {
     "data": {
      "text/plain": [
       "array([0, 1, 2, 3])"
      ]
     },
     "execution_count": 35,
     "metadata": {},
     "output_type": "execute_result"
    },
    {
     "data": {
      "text/plain": [
       "array([ 0, 10,  2,  3])"
      ]
     },
     "execution_count": 35,
     "metadata": {},
     "output_type": "execute_result"
    },
    {
     "data": {
      "text/plain": [
       "array([6, 1, 2, 3])"
      ]
     },
     "execution_count": 35,
     "metadata": {},
     "output_type": "execute_result"
    }
   ],
   "source": [
    "#深复制，两个数据互相独立\n",
    "a=np.array([0,1,2,3])\n",
    "b=a.copy()\n",
    "a[0]=6\n",
    "a #[6 1 2 3]\n",
    "b #[0 1 2 3] 改变a,b不跟着改变\n",
    "b[1]=10\n",
    "b #[ 0 10  2  3]\n",
    "a #[ 6 1  2  3]改变b,a不跟着改变，互相独立"
   ]
  },
  {
   "cell_type": "code",
   "execution_count": null,
   "metadata": {},
   "outputs": [],
   "source": []
  }
 ],
 "metadata": {
  "kernelspec": {
   "display_name": "Python 3",
   "language": "python",
   "name": "python3"
  },
  "language_info": {
   "codemirror_mode": {
    "name": "ipython",
    "version": 3
   },
   "file_extension": ".py",
   "mimetype": "text/x-python",
   "name": "python",
   "nbconvert_exporter": "python",
   "pygments_lexer": "ipython3",
   "version": "3.5.2"
  },
  "toc": {
   "base_numbering": 1,
   "nav_menu": {},
   "number_sections": true,
   "sideBar": true,
   "skip_h1_title": false,
   "title_cell": "Table of Contents",
   "title_sidebar": "Contents",
   "toc_cell": false,
   "toc_position": {},
   "toc_section_display": true,
   "toc_window_display": true
  }
 },
 "nbformat": 4,
 "nbformat_minor": 2
}
