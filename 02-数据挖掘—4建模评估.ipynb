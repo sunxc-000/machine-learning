{
 "cells": [
  {
   "cell_type": "code",
   "execution_count": 2,
   "metadata": {},
   "outputs": [],
   "source": [
    "import numpy as np\n",
    "import pandas as pd\n",
    "from sklearn.model_selection import train_test_split, GridSearchCV,RandomizedSearchCV,cross_val_score,learning_curve,validation_curve\n",
    "from sklearn.datasets.samples_generator import make_classification\n",
    "from sklearn.svm import SVC\n",
    "import matplotlib.pyplot as plt\n",
    "from sklearn.feature_selection import VarianceThreshold\n",
    "from scipy.stats import pearsonr,randint\n",
    "from sklearn.datasets import load_iris,load_digits\n",
    "from sklearn.feature_selection import SelectKBest,chi2\n",
    "from sklearn.datasets.samples_generator import make_blobs\n",
    "from sklearn.decomposition import PCA\n",
    "from sklearn import svm, datasets\n",
    "from sklearn.metrics import classification_report\n",
    "from sklearn.ensemble import RandomForestClassifier\n",
    "from sklearn import preprocessing\n",
    "from sklearn.metrics import accuracy_score"
   ]
  },
  {
   "cell_type": "markdown",
   "metadata": {},
   "source": [
    "sklearn官方文档：https://scikit-learn.org/stable/index.html  \n",
    "sklearn中文文档：http://sklearn.apachecn.org/#/"
   ]
  },
  {
   "cell_type": "markdown",
   "metadata": {},
   "source": [
    "# 模型选择"
   ]
  },
  {
   "cell_type": "markdown",
   "metadata": {},
   "source": [
    "## 回归模型"
   ]
  },
  {
   "cell_type": "markdown",
   "metadata": {},
   "source": [
    "1、线性回归LinearRegression()  \n",
    "2、决策树回归DecisionTreeRegressor()  \n",
    "3、SVM回归SVR()  \n",
    "4、随机森林回归RandomForestRegressor()  \n",
    "5、KNN回归KNeighborsRegressor()  \n",
    "6、AdaBoost回归AdaBoostRegressor()  \n",
    "7、GBRT回归GradientBoostingRegressor()  \n",
    "8、Bagging回归BaggingRegressor()  \n",
    "9、极端随机数回归ExtraTreeRegressor()"
   ]
  },
  {
   "cell_type": "markdown",
   "metadata": {},
   "source": [
    "## 分类模型"
   ]
  },
  {
   "cell_type": "markdown",
   "metadata": {},
   "source": [
    "1、KNN分类KNeighborsClassifier()  \n",
    "2、SVM分类SVC()  \n",
    "3、逻辑回归分类LogisticRegression()  \n",
    "4、随机森林RandomForestClassifier()  \n",
    "5、高斯朴素贝叶斯GaussianNB()  \n",
    "6、多项式朴素贝叶斯MultinomialNB()  \n",
    "7、伯努利朴素贝叶斯BernoulliNB()  \n",
    "8、决策树decision_tree_classifier()  \n",
    "9、GBDT分类 GradientBoostingClassifier()  \n",
    "10、AdaBoost分类AdaBoostClassifier()  \n",
    "11、极端树分类ExtraTreesClassifier()  \n",
    "12、Bagging分类BaggingClassifier()"
   ]
  },
  {
   "cell_type": "markdown",
   "metadata": {},
   "source": [
    "## 模型选择案例"
   ]
  },
  {
   "cell_type": "code",
   "execution_count": null,
   "metadata": {},
   "outputs": [],
   "source": [
    "###########1.数据生成部分##########\n",
    "def f(x1, x2):\n",
    "    y = 0.5 * np.sin(x1) + 0.5 * np.cos(x2) + 3 + 0.1 * x1 \n",
    "    return y\n",
    "\n",
    "def load_data():\n",
    "    x1_train = np.linspace(0,50,500)\n",
    "    x2_train = np.linspace(-10,10,500)\n",
    "    data_train = np.array([[x1,x2,f(x1,x2) + (np.random.random(1)-0.5)] for x1,x2 in zip(x1_train, x2_train)])\n",
    "    x1_test = np.linspace(0,50,100)+ 0.5 * np.random.random(100)\n",
    "    x2_test = np.linspace(-10,10,100) + 0.02 * np.random.random(100)\n",
    "    data_test = np.array([[x1,x2,f(x1,x2)] for x1,x2 in zip(x1_test, x2_test)])\n",
    "    return data_train, data_test\n",
    "\n",
    "train, test = load_data()\n",
    "x_train, y_train = train[:,:2], train[:,2] #数据前两列是x1,x2 第三列是y,这里的y有随机噪声\n",
    "x_test ,y_test = test[:,:2], test[:,2] # 同上,不过这里的y没有噪声\n",
    "\n",
    "\n",
    "###########2.回归部分##########\n",
    "def try_different_method(model):\n",
    "    model.fit(x_train,y_train)\n",
    "    score = model.score(x_test, y_test)\n",
    "    result = model.predict(x_test)\n",
    "    plt.figure()\n",
    "    plt.plot(np.arange(len(result)), y_test,'go-',label='true value')\n",
    "    plt.plot(np.arange(len(result)),result,'ro-',label='predict value')\n",
    "    plt.title('score: %f'%score)\n",
    "    plt.legend()\n",
    "    plt.show()\n",
    "\n",
    "\n",
    "###########3.具体方法选择##########\n",
    "####3.1决策树回归####\n",
    "from sklearn import tree\n",
    "model_DecisionTreeRegressor = tree.DecisionTreeRegressor()\n",
    "####3.2线性回归####\n",
    "from sklearn import linear_model\n",
    "model_LinearRegression = linear_model.LinearRegression()\n",
    "####3.3SVM回归####\n",
    "from sklearn import svm\n",
    "model_SVR = svm.SVR()\n",
    "####3.4KNN回归####\n",
    "from sklearn import neighbors\n",
    "model_KNeighborsRegressor = neighbors.KNeighborsRegressor()\n",
    "####3.5随机森林回归####\n",
    "from sklearn import ensemble\n",
    "model_RandomForestRegressor = ensemble.RandomForestRegressor(n_estimators=20)#这里使用20个决策树\n",
    "####3.6Adaboost回归####\n",
    "from sklearn import ensemble\n",
    "model_AdaBoostRegressor = ensemble.AdaBoostRegressor(n_estimators=50)#这里使用50个决策树\n",
    "####3.7GBRT回归####\n",
    "from sklearn import ensemble\n",
    "model_GradientBoostingRegressor = ensemble.GradientBoostingRegressor(n_estimators=100)#这里使用100个决策树\n",
    "####3.8Bagging回归####\n",
    "from sklearn.ensemble import BaggingRegressor\n",
    "model_BaggingRegressor = BaggingRegressor()\n",
    "####3.9ExtraTree极端随机树回归####\n",
    "from sklearn.tree import ExtraTreeRegressor\n",
    "model_ExtraTreeRegressor = ExtraTreeRegressor()\n",
    "\n",
    "\n",
    "###########4.具体方法调用部分##########\n",
    "try_different_method(model_DecisionTreeRegressor)"
   ]
  },
  {
   "cell_type": "markdown",
   "metadata": {},
   "source": [
    "#  模型调参"
   ]
  },
  {
   "cell_type": "markdown",
   "metadata": {},
   "source": [
    "## 网格搜索GridSearchCV"
   ]
  },
  {
   "cell_type": "markdown",
   "metadata": {},
   "source": [
    "sklearn调参的核武器—gridsearchcv，它存在的意义就是自动调参，只要把参数输进去，就可以对算法进行相应的调优，暴力搜索所有参数组合，找到合适的参数。然而，在小数据集上还可以小打小闹。一旦数据的量级上去了，就很难得到结果，而且会报出memory error等错误。  \n",
    "**class sklearn.model_selection.GridSearchCV(estimator, param_grid, scoring=None, fit_params=None, n_jobs=1, iid=True, refit=True, cv=None, verbose=0, pre_dispatch='2*n_jobs', error_score='raise', return_train_score=True)**  \n",
    "**参数：**  \n",
    "estimator：所使用的分类器，分类器已传入除需要确定最佳的参数之外的其他参数。  \n",
    "param_grid：值为字典或者列表，即需要最优化的参数的取值。 可以通过一个列表中多个字典分开分类器，对每个字典分别网格搜索   \n",
    "scoring :准确度评价标准，默认None,根据所选模型不同，评价准则不同。  \n",
    "fit_params：传递给估计器的拟合方法的参数。    \n",
    "cv :交叉验证参数，默认None，使用3折交叉验证。    \n",
    "refit :默认为True,程序将会以交叉验证训练集得到的最佳参数，重新对所有可用的训练集与开发集进行，作为最终用于性能评估的最佳模型参数。  \n",
    "iid:默认True,为True时，默认为各个样本fold概率分布一致，误差估计为所有样本之和，而非各个fold的平均。  \n",
    "verbose：日志冗长度，int：冗长度，0：不输出训练过程，1：偶尔输出，>1：对每个子模型都输出。  \n",
    "n_jobs: 并行数，int：个数,-1：跟CPU核数一致, 1:默认值。  \n",
    "pre_dispatch：指定总共分发的并行任务数。当n_jobs大于1时，数据将在每个运行点进行复制，这可能导致OOM，而设置pre_dispatch参数，则可以预先划分总共的job数量，使数据最多被复制pre_dispatch  \n",
    "**返回：**    \n",
    "grid_scores_：给出不同参数情况下的评价结果  \n",
    "best_params_：描述了已取得最佳结果的参数的组合  \n",
    "best_score_：成员提供优化过程期间观察到的最好的评分   \n",
    "best_estimator_：最好的分类器"
   ]
  },
  {
   "cell_type": "code",
   "execution_count": null,
   "metadata": {},
   "outputs": [],
   "source": [
    "iris = datasets.load_iris()\n",
    "parameters = {'kernel':['linear', 'rbf'], 'C':[1, 2, 4], 'gamma':[0.125, 0.25, 0.5 ,1, 2, 4]}\n",
    "svr = svm.SVC()\n",
    "clf = GridSearchCV(svr, parameters, n_jobs=-1)\n",
    "clf.fit(iris.data, iris.target)\n",
    "\n",
    "print('最优的模型参数:',clf.best_params_)\n",
    "\n",
    "y_pred = clf.predict(iris.data)\n",
    "print(classification_report(y_true=iris.target, y_pred=y_pred))\n",
    "\n",
    "print('最好的模型:',clf.best_estimator_)"
   ]
  },
  {
   "cell_type": "markdown",
   "metadata": {},
   "source": [
    "**特殊情况下，需要进行分组验证、存在类别特征等，在GridSearchCV的fit方法中通过groups和fit_params指定**"
   ]
  },
  {
   "cell_type": "code",
   "execution_count": null,
   "metadata": {},
   "outputs": [],
   "source": [
    "params_test1={'max_depth': list(range(30,37,2)), 'num_leaves':list(range(350, 460, 20))}\n",
    "fit_params = {'categorical_feature':categorical_cols}\n",
    "\n",
    "gbm_model = lgb.LGBMClassifier(boosting_type='gbdt',objective='binary',metrics='auc',learning_rate=0.1, n_estimators=1000) \n",
    "gkf = GroupKFold(n_splits=3)\n",
    "\n",
    "gsearch1 = GridSearchCV(estimator = gbm_model,param_grid = params_test1, scoring='roc_auc',cv=gkf,n_jobs=1)\n",
    "gsearch1.fit(data_train_X,data_train_y,groups,**fit_params)\n",
    "gsearch1.cv_results_['mean_test_score'], gsearch1.best_params_, gsearch1.best_score_\n",
    "\n",
    "\"\"\"使用GridSearchCV对lightGBM进行调参时，参数n_jobs设为1，否则会出现线程问题（没理解），很长时间不出结果\n",
    "https://stackoverflow.com/questions/45045938/python-lightgbm-with-gridsearchcv-is-running-forever\"\"\""
   ]
  },
  {
   "cell_type": "markdown",
   "metadata": {},
   "source": [
    "## 随机搜索RandomizedSearchCV"
   ]
  },
  {
   "cell_type": "markdown",
   "metadata": {},
   "source": [
    "RandomizedSearchCV类实现了在参数空间上进行随机搜索的机制，给参数一个范围，然后系统随机选择参数，进行检验，然后选择最好的这个概率分布描述了对应的参数的所有取值情况的可能性，这种随机采样机制与网格穷举搜索相比，有两大优点：  \n",
    "•相比于整体参数空间，可以选择相对较少的参数组合数量  \n",
    "•添加参数节点不影响性能，不会降低效率  \n"
   ]
  },
  {
   "cell_type": "code",
   "execution_count": null,
   "metadata": {},
   "outputs": [],
   "source": [
    "# 生成数据\n",
    "digits = load_digits()\n",
    "X, y = digits.data, digits.target\n",
    "\n",
    "# 元分类器\n",
    "meta_clf = RandomForestClassifier(n_estimators=20)\n",
    "\n",
    "# 设置参数\n",
    "param_dist = {\"max_depth\": [3, None],\n",
    "              \"max_features\": randint(1, 11),\n",
    "              \"min_samples_split\": randint(2, 11),\n",
    "              \"min_samples_leaf\": randint(2, 11),\n",
    "              \"bootstrap\": [True, False],\n",
    "              \"criterion\": [\"gini\", \"entropy\"]}\n",
    "\n",
    "# 运行随机搜索 RandomizedSearch\n",
    "n_iter_search = 20\n",
    "rs_clf = RandomizedSearchCV(meta_clf, param_distributions=param_dist,\n",
    "                                   n_iter=n_iter_search)\n",
    "\n",
    "\n",
    "rs_clf.fit(X, y)\n",
    "print('最优的模型参数:',rs_clf.best_params_)\n",
    "print('最好的模型:',rs_clf.best_estimator_)"
   ]
  },
  {
   "cell_type": "markdown",
   "metadata": {},
   "source": [
    "# 模型评估"
   ]
  },
  {
   "cell_type": "markdown",
   "metadata": {},
   "source": [
    "## estimator自带score"
   ]
  },
  {
   "cell_type": "markdown",
   "metadata": {},
   "source": [
    "sklearn中的estimator都具有一个score方法，提供了一个缺省的评估法则。"
   ]
  },
  {
   "cell_type": "code",
   "execution_count": null,
   "metadata": {},
   "outputs": [],
   "source": [
    "from sklearn.linear_model.logistic import LogisticRegression\n",
    "iris = load_iris()\n",
    "x = iris.data\n",
    "y = iris.target\n",
    "X_train,X_test,y_train, y_test = train_test_split(x, y,random_state=4)\n",
    "model_lr = LogisticRegression()\n",
    "model_lr.fit(X_train, y_train)\n",
    "model_lr.score(X_test,y_test)"
   ]
  },
  {
   "cell_type": "markdown",
   "metadata": {},
   "source": [
    "## sklearn Metric函数"
   ]
  },
  {
   "cell_type": "markdown",
   "metadata": {},
   "source": [
    "通过sklearn Metric函数用来评估预测误差，Metric函数有分类、回归、聚类等类别，参考sklearn官方文档  \n",
    "https://scikit-learn.org/stable/modules/model_evaluation.html"
   ]
  },
  {
   "cell_type": "code",
   "execution_count": null,
   "metadata": {},
   "outputs": [],
   "source": [
    "from sklearn.linear_model.logistic import LogisticRegression\n",
    "iris = load_iris()\n",
    "x = iris.data\n",
    "y = iris.target\n",
    "X_train,X_test,y_train, y_test = train_test_split(x, y,random_state=4)\n",
    "model_lr = LogisticRegression()\n",
    "model_lr.fit(X_train, y_train)\n",
    "\n",
    "y_pred = classifier.predict(X_test)\n",
    "accuracy_score(y_test,y_pred)"
   ]
  },
  {
   "cell_type": "markdown",
   "metadata": {},
   "source": [
    "## 交叉验证评估"
   ]
  },
  {
   "cell_type": "markdown",
   "metadata": {},
   "source": [
    "使用cross-validation的模型评估工具，依赖于内部的scoring策略。  \n",
    "https://scikit-learn.org/stable/modules/cross_validation.html  \n",
    "cross-validation的评估工具有cross_validate和cross_val_score两种：  \n",
    "cross_validate允许指定多个指标进行评估，同时还可以显示交叉验证训练集的score，观察训练和测试集评估score相差的大小来判断是否过拟合。\n",
    "cross_val_score只能显示测试集的score，可以用作对模型性能的综合评估。  "
   ]
  },
  {
   "cell_type": "markdown",
   "metadata": {},
   "source": [
    "**sklearn.model_selection.cross_val_score(estimator, X, y=None, groups=None, scoring=None, cv=None, n_jobs=1, verbose=0, fit_params=None, pre_dispatch=‘2*n_jobs’)**  \n",
    "estimator：模型  \n",
    "X：数据   \n",
    "y：预测数据  \n",
    "groups：指定分组采样指定索引  \n",
    "soring：调用的方法（accuracy、precision、recall、f1、neg_mean_absolute_error等）  \n",
    "cv：交叉验证迭代的次数。当cv是一个整数：模型是sklearn中的分类模型时，cross_val_score 默认使用StratifiedKFold 策略，否则使用KFold策略  \n",
    "n_jobs：同时工作的cpu个数（-1代表全部）  \n",
    "verbose：详细程度  \n",
    "fit_params：传递给估计器的拟合方法的参数  \n",
    "pre_dispatch：控制并行执行期间调度的作业数量。  "
   ]
  },
  {
   "cell_type": "code",
   "execution_count": null,
   "metadata": {},
   "outputs": [],
   "source": [
    "from sklearn.linear_model.logistic import LogisticRegression\n",
    "x,y=make_classification(n_samples=200,n_features=2,n_redundant=0,n_informative=2,\n",
    "                             random_state=1,n_clusters_per_class=2)\n",
    "X_train,X_test,y_train, y_test = train_test_split(x, y,random_state=4)\n",
    "\n",
    "classifier = LogisticRegression()\n",
    "classifier.fit(X_train, y_train)\n",
    "\n",
    "# 准确率\n",
    "cross_val_score(classifier, x, y, cv=5, scoring='mse') "
   ]
  },
  {
   "cell_type": "markdown",
   "metadata": {},
   "source": [
    "# 学习曲线"
   ]
  },
  {
   "cell_type": "markdown",
   "metadata": {},
   "source": [
    "学习曲线显示了对于不同数量的训练样本的估计器的验证和训练评分。它可以帮助我们发现从增加更多的训 练数据中能获益多少，以及估计是否受到更多来自方差误差或偏差误差的影响。如果在增加训练集大小时，验证分数和训练 分数都收敛到一个很低的值，那么我们将不会从更多的训练数据中获益。  \n",
    "sklearn.model_selection.\n",
    "learning_curve (estimator, X, y, groups=None, train_sizes=array([ 0.1, 0.33, 0.55, 0.78, 1. ]), cv=None, scoring=None, exploit_incremental_learning=False, n_jobs=1, pre_dispatch='all', verbose=0)  \n",
    "scoring参数自动默认为F1 ?\n",
    "\n",
    "https://scikit-learn.org/stable/modules/generated/sklearn.model_selection.learning_curve"
   ]
  },
  {
   "cell_type": "code",
   "execution_count": 12,
   "metadata": {
    "collapsed": true
   },
   "outputs": [
    {
     "data": {
      "text/plain": [
       "[<matplotlib.lines.Line2D at 0xcd36160>]"
      ]
     },
     "execution_count": 12,
     "metadata": {},
     "output_type": "execute_result"
    },
    {
     "data": {
      "text/plain": [
       "[<matplotlib.lines.Line2D at 0xbb6ad68>]"
      ]
     },
     "execution_count": 12,
     "metadata": {},
     "output_type": "execute_result"
    },
    {
     "data": {
      "text/plain": [
       "Text(0.5,0,'Training examples')"
      ]
     },
     "execution_count": 12,
     "metadata": {},
     "output_type": "execute_result"
    },
    {
     "data": {
      "text/plain": [
       "Text(0,0.5,'Score')"
      ]
     },
     "execution_count": 12,
     "metadata": {},
     "output_type": "execute_result"
    },
    {
     "data": {
      "text/plain": [
       "<matplotlib.legend.Legend at 0xcd36a58>"
      ]
     },
     "execution_count": 12,
     "metadata": {},
     "output_type": "execute_result"
    },
    {
     "data": {
      "image/png": "[encoded data removed]",
      "text/plain": [
       "<Figure size 432x288 with 1 Axes>"
      ]
     },
     "metadata": {},
     "output_type": "display_data"
    }
   ],
   "source": [
    "digits=datasets.load_digits()\n",
    "X=digits.data[:300]\n",
    "y=digits.target[:300]\n",
    "train_sizes,train_score,test_score=learning_curve(SVC(gamma=0.001),X,y,cv=10,train_sizes=[0.1,0.25,0.5,0.75,1])\n",
    "train_score_mean=np.mean(train_score,axis=1)\n",
    "test_score_mean=np.mean(test_score,axis=1)\n",
    "plt.plot(train_sizes,train_score_mean,'o-',color=\"r\",label=\"Training\")\n",
    "plt.plot(train_sizes,test_score_mean,'o-',color=\"g\",label=\"Cross-validation\")\n",
    "plt.xlabel(\"Training examples\")\n",
    "plt.ylabel(\"Score\")\n",
    "plt.legend(loc=\"best\")\n",
    "plt.show()"
   ]
  },
  {
   "cell_type": "markdown",
   "metadata": {},
   "source": [
    "# 验证曲线"
   ]
  },
  {
   "cell_type": "markdown",
   "metadata": {},
   "source": [
    "当需要开展估计器多个超参数的调优时，最简单的方式就是通过网格搜索或者随机搜索的方式，确定最终的最优参数组合。  \n",
    "但需要估计模型是否因为某些超参数的值而出现过拟合或欠拟合，可通过绘制单个超参数对训练分数和验证分数的影响来进行观察，也即验证曲线。  \n",
    "sklearn.model_selection.validation_curve(estimator, X, y, param_name, param_range, groups=None, cv=None, scoring=None, n_jobs=1, pre_dispatch='all', verbose=0)  \n",
    "如果训练得分和验证得分都很低，则估计器是不合适的。如果训练得分高，验证得分低，则估计器过拟合， 否则估计会拟合得很好。通常不可能有较低的训练得分和较高的验证得分。"
   ]
  },
  {
   "cell_type": "code",
   "execution_count": 22,
   "metadata": {},
   "outputs": [
    {
     "data": {
      "text/plain": [
       "[<matplotlib.lines.Line2D at 0xd108ac8>]"
      ]
     },
     "execution_count": 22,
     "metadata": {},
     "output_type": "execute_result"
    },
    {
     "data": {
      "text/plain": [
       "[<matplotlib.lines.Line2D at 0xd108f60>]"
      ]
     },
     "execution_count": 22,
     "metadata": {},
     "output_type": "execute_result"
    },
    {
     "data": {
      "text/plain": [
       "Text(0.5,0,'gamma')"
      ]
     },
     "execution_count": 22,
     "metadata": {},
     "output_type": "execute_result"
    },
    {
     "data": {
      "text/plain": [
       "Text(0,0.5,'Score')"
      ]
     },
     "execution_count": 22,
     "metadata": {},
     "output_type": "execute_result"
    },
    {
     "data": {
      "text/plain": [
       "<matplotlib.legend.Legend at 0xd108fd0>"
      ]
     },
     "execution_count": 22,
     "metadata": {},
     "output_type": "execute_result"
    },
    {
     "data": {
      "image/png": "[encoded data removed]",
      "text/plain": [
       "<Figure size 432x288 with 1 Axes>"
      ]
     },
     "metadata": {},
     "output_type": "display_data"
    }
   ],
   "source": [
    "digits = load_digits()\n",
    "X=digits.data\n",
    "y=digits.target\n",
    "\n",
    "param_range = [0.01,0.03,0.05,0.1,0.3]\n",
    "train_scores, valid_scores = validation_curve(SVC(), X, y,param_name=\"gamma\",param_range=param_range,cv=5,scoring=\"accuracy\", n_jobs=1)\n",
    "train_score_mean=np.mean(train_scores,axis=1)\n",
    "test_score_mean=np.mean(valid_scores,axis=1)\n",
    "plt.plot(param_range,train_score_mean,'o-',color=\"r\",label=\"Training\")\n",
    "plt.plot(param_range,test_score_mean,'o-',color=\"g\",label=\"Cross-validation\")\n",
    "plt.xlabel(\"gamma\")\n",
    "plt.ylabel(\"Score\")\n",
    "plt.legend(loc=\"best\")\n",
    "plt.show()"
   ]
  },
  {
   "cell_type": "markdown",
   "metadata": {},
   "source": [
    "# 模型解释"
   ]
  },
  {
   "cell_type": "code",
   "execution_count": null,
   "metadata": {},
   "outputs": [],
   "source": [
    "# feature_importance = pd.DataFrame({'column':  data_train_X.columns,'importance': gbm_model.feature_importances_})\n",
    "# feature_importance = feature_importance.sort_values(by='importance',ascending=False)\n",
    "# plt.figure(figsize=(15,6))\n",
    "# sns.barplot(x=\"importance\", y=\"column\", data=feature_importance,orient='h')\n",
    "# plt.show()"
   ]
  },
  {
   "cell_type": "markdown",
   "metadata": {},
   "source": [
    "# 模型存取"
   ]
  },
  {
   "cell_type": "code",
   "execution_count": null,
   "metadata": {},
   "outputs": [],
   "source": [
    "#方法一：pickle\n",
    "# import pickle\n",
    "# #保存\n",
    "# with open('clf.pickle','wb') as f:\n",
    "#      pickle.dump(clf,f)\n",
    "# #读取\n",
    "# with open('clf.pickle','rb') as f:\n",
    "#     clf2=pickle.load(f)\n",
    "#     print(clf2.predict(X[0:5]))\n",
    "\n",
    "#方法二：joblib\n",
    "# from sklearn.externals import joblib\n",
    "# #保存\n",
    "# joblib.dump(clf,'clf.pkl')\n",
    "# #读取\n",
    "# clf3=joblib.load('clf.pkl')\n",
    "# print(clf3.predict(X[0:5]))"
   ]
  }
 ],
 "metadata": {
  "kernelspec": {
   "display_name": "Python 3",
   "language": "python",
   "name": "python3"
  },
  "language_info": {
   "codemirror_mode": {
    "name": "ipython",
    "version": 3
   },
   "file_extension": ".py",
   "mimetype": "text/x-python",
   "name": "python",
   "nbconvert_exporter": "python",
   "pygments_lexer": "ipython3",
   "version": "3.6.5"
  },
  "toc": {
   "base_numbering": 1,
   "nav_menu": {},
   "number_sections": true,
   "sideBar": true,
   "skip_h1_title": false,
   "title_cell": "Table of Contents",
   "title_sidebar": "Contents",
   "toc_cell": false,
   "toc_position": {
    "height": "calc(100% - 180px)",
    "left": "10px",
    "top": "150px",
    "width": "307px"
   },
   "toc_section_display": true,
   "toc_window_display": true
  }
 },
 "nbformat": 4,
 "nbformat_minor": 2
}
