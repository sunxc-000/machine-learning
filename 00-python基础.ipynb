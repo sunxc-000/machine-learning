{
 "cells": [
  {
   "cell_type": "markdown",
   "metadata": {},
   "source": [
    "## 字符串"
   ]
  },
  {
   "cell_type": "code",
   "execution_count": null,
   "metadata": {},
   "outputs": [],
   "source": [
    "# 字符串大小写输出\n",
    "name='ada lovElace'\n",
    "name.title() #每个单词首字母大写，其余都小写（注意L变成小写了）\n",
    "name.upper() #每个单词都大写\n",
    "name.lower() #每个单词都小写"
   ]
  },
  {
   "cell_type": "code",
   "execution_count": null,
   "metadata": {},
   "outputs": [],
   "source": [
    "# 添加空白\n",
    "print(\"python\")\n",
    "print(\"\\tpython\") #\\t制表符\n",
    "print(\"language:\\npython\") #\\n换行符\n",
    "print(\"language:\\npython\\n\\tjava\") #\\t\\n结合使用"
   ]
  },
  {
   "cell_type": "code",
   "execution_count": null,
   "metadata": {},
   "outputs": [],
   "source": [
    "# 删除空白\n",
    "language=' python '\n",
    "print(language) #输出' python '\n",
    "print(language.strip()) #输出'python'，注意，原language仍为' python '，要改变language变量，需将删除的结果返回给language，language=language.rstrip()\n",
    "print(language.rstrip()) #左删除，输出'python '\n",
    "print(language.lstrip()) #右删除，输出' python'"
   ]
  },
  {
   "cell_type": "code",
   "execution_count": null,
   "metadata": {},
   "outputs": [],
   "source": [
    "# 字符串与列表的转换\n",
    "str1 = \"hi hello world\"\n",
    "print(str1.split(\" \")) #['hi', 'hello', 'world']\n",
    "l = [\"hi\",\"hello\",\"world\"]\n",
    "print(\" \".join(l)) #hi hello world\n",
    "print(\",\".join(l)) #hi,hello,world"
   ]
  },
  {
   "cell_type": "markdown",
   "metadata": {},
   "source": [
    "## 列表"
   ]
  },
  {
   "cell_type": "code",
   "execution_count": null,
   "metadata": {},
   "outputs": [],
   "source": [
    "# 列表元素的索引从0开始，最后一个为-1\n",
    "names=['bob','cat','lily','david']\n",
    "print(names[0]) #输出bob\n",
    "print(names[-1]) #输出david"
   ]
  },
  {
   "cell_type": "code",
   "execution_count": null,
   "metadata": {},
   "outputs": [],
   "source": [
    "# 列表末尾添加元素\n",
    "names=[]\n",
    "names.append('bob')\n",
    "names.append('cat')\n",
    "print(names) #输出['bob', 'cat']"
   ]
  },
  {
   "cell_type": "code",
   "execution_count": null,
   "metadata": {},
   "outputs": [],
   "source": [
    "# 列表中插入元素\n",
    "names=['bob','lily','david']\n",
    "names.insert(1,'cat')\n",
    "print(names) #['bob', 'cat', 'lily', 'david']"
   ]
  },
  {
   "cell_type": "code",
   "execution_count": null,
   "metadata": {},
   "outputs": [],
   "source": [
    "# 列表中删除元素\n",
    "# ① del方式按照索引删除，被删元素无法访问\n",
    "names=['bob','lily','david']\n",
    "del names[0]\n",
    "print(names) ['lily', 'david']\n",
    "# ② pop删除末尾元素，被删元素可以访问\n",
    "names=['bob','lily','david']\n",
    "names2=names.pop() #默认删除最后一个元素\n",
    "names3=names.pop(0) #删除第一个元素\n",
    "print(names) #输出['lily']\n",
    "print(names2) #输出david\n",
    "print(names3) #输出bob\n",
    "# ③ remove根据值删除元素\n",
    "names=['bob','lily','david']\n",
    "names.remove('bob')\n",
    "print(names) #输出['lily', 'david']"
   ]
  },
  {
   "cell_type": "code",
   "execution_count": null,
   "metadata": {},
   "outputs": [],
   "source": [
    "# 列表的排序\n",
    "# ① sort永久性排序\n",
    "names=['bob','lily','david']\n",
    "names.sort() #按照字母从小到大排序，参数reverse默认False，改成True则倒序\n",
    "print(names) #输出['bob', 'david', 'lily']\n",
    "# ② sorted临时排序\n",
    "names=['bob','lily','david']\n",
    "print(sorted(names)) #['bob', 'david', 'lily']\n",
    "print(names) #['bob', 'lily', 'david'] 原names排序不变"
   ]
  },
  {
   "cell_type": "code",
   "execution_count": null,
   "metadata": {},
   "outputs": [],
   "source": [
    "# 反转列表\n",
    "names=['bob','lily','david']\n",
    "names.reverse()\n",
    "print(names) #['david', 'lily', 'bob']"
   ]
  },
  {
   "cell_type": "code",
   "execution_count": null,
   "metadata": {},
   "outputs": [],
   "source": [
    "# range创建数值列表\n",
    "numbers=list(range(1,5))\n",
    "print(numbers) #输出[1, 2, 3, 4],不包括最后一个5\n",
    "numbers2=list(range(2,11,2)) #从2到11，以2为步长\n",
    "print(numbers2) #输出[2, 4, 6, 8, 10]"
   ]
  },
  {
   "cell_type": "code",
   "execution_count": null,
   "metadata": {},
   "outputs": [],
   "source": [
    "# 列表的统计计算\n",
    "numbers=[1,2,3,4,5,6,7]\n",
    "print(min(numbers)) #最小值1\n",
    "print(max(numbers)) #最大值7\n",
    "print(sum(numbers)) #和28\n",
    "print(sum(numbers)/len(numbers)) #平均值4.0"
   ]
  },
  {
   "cell_type": "code",
   "execution_count": null,
   "metadata": {},
   "outputs": [],
   "source": [
    "# 列表复制\n",
    "numbers=[1,2,3,4,5,6]\n",
    "numbers1=numbers[:]\n",
    "print(numbers1) #[1, 2, 3, 4, 5, 6]\n",
    "#下面这种不是复制，属于将变量numbers赋给numbers2，两者在后续的改变中完全一样\n",
    "numbers2=numbers\n",
    "print(numbers2) #[1, 2, 3, 4, 5, 6]\n",
    "numbers2.append(7)\n",
    "print(numbers2) #[1, 2, 3, 4, 5, 6, 7]\n",
    "print(numbers) #[1, 2, 3, 4, 5, 6, 7]"
   ]
  },
  {
   "cell_type": "code",
   "execution_count": null,
   "metadata": {},
   "outputs": [],
   "source": [
    "# 检查特定值是否包含在列表中\n",
    "names=['bob','lily','david']\n",
    "print('bob' in names) #True\n",
    "print('mm' not in names) #True"
   ]
  },
  {
   "cell_type": "code",
   "execution_count": null,
   "metadata": {},
   "outputs": [],
   "source": [
    "# 定义定义给定初值或长度的list\n",
    "a = [0 for x in range(0, 1000)]  #长度1000，初始值全为0的列表\n",
    "a = [0]*10 #长度10，初始值全为0的列表\n",
    "a = [None]*10 #长度10，初始值全为空的列表"
   ]
  },
  {
   "cell_type": "markdown",
   "metadata": {},
   "source": [
    "## 元祖"
   ]
  },
  {
   "cell_type": "markdown",
   "metadata": {},
   "source": [
    "相比于list列表，元祖的值不能改变，更加安全，想改变元祖只能重新定义新的元祖"
   ]
  },
  {
   "cell_type": "code",
   "execution_count": null,
   "metadata": {},
   "outputs": [],
   "source": [
    "dimensions=(200,50,6)\n",
    "print(dimensions[0]) #200，第一个元素\n",
    "print(dimensions[1]) #50,第二个元素\n",
    "print(dimensions[2]) #6，第三个元素\n",
    "# 定义只有一个元素的tuple\n",
    "t = (1,) #加上逗号，和（1）区分开来\n",
    "print(t) #(1,)"
   ]
  },
  {
   "cell_type": "markdown",
   "metadata": {},
   "source": [
    "## 字典"
   ]
  },
  {
   "cell_type": "code",
   "execution_count": null,
   "metadata": {},
   "outputs": [],
   "source": [
    "# 字典值的访问、添加、修改、删除\n",
    "dic={'A':1,'B':2}\n",
    "print(dic['A']) #1\n",
    "print(dic['B']) #2\n",
    "dic['C']=3 #添加元素\n",
    "print(dic) #{'A': 1, 'B': 2, 'C': 3}\n",
    "dic['B']=5 #修改元素\n",
    "print(dic) #{'A': 1, 'B': 5, 'C': 3}\n",
    "del dic['C'] #删除元素\n",
    "print(dic) #{'A': 1, 'B': 5}"
   ]
  },
  {
   "cell_type": "code",
   "execution_count": null,
   "metadata": {},
   "outputs": [],
   "source": [
    "# 遍历字典\n",
    "# ① 历键值对\n",
    "dic={'A':1,'B':2,'C':3}\n",
    "for key,value in dic.items(): #items返回一个键值对列表dict_items([('A', 1), ('B', 2), ('C', 3)])\n",
    "    print('key:',key)\n",
    "    print('valur:',value)\n",
    "\n",
    "# ② 遍历所有键\n",
    "dic={'A':1,'B':2,'C':3}\n",
    "for key in dic.keys(): #keys()返回所有键的一个列表,dict_keys(['A', 'B', 'C'])\n",
    "    print(key)\n",
    "for key in dic: #遍历dic时，默认遍历所有键，和上面效果一样，但dic.keys()更容易理解\n",
    "    print(key)\n",
    "    \n",
    "# ③ 判断某个key是否存在\n",
    "dic={'A':1,'B':2,'C':3}\n",
    "print('A' in dic.keys()) #存在，返回True\n",
    "print(dic.get('A')) #存在，返回1\n",
    "print(dic.get('D')) #不存在，返回None\n",
    "print(dic.get('D',-1)) #不存在，返回指定值-1\n",
    "\n",
    "# ④ 遍历所有的值\n",
    "dic={'A':1,'B':2,'C':3}\n",
    "for value in dic.values():\n",
    "    print(value)\n",
    "    \n",
    "# ⑤ 字典嵌套\n",
    "dic={'A':1,'B':2,'C':[5,6]}\n",
    "print(dic['C'][0]) #返回5\n",
    "dic={'A':1,'B':2,'C':{'D':5,'E':6}}\n",
    "print(dic['C']['D']) #返回5"
   ]
  },
  {
   "cell_type": "markdown",
   "metadata": {},
   "source": [
    "## 集合set"
   ]
  },
  {
   "cell_type": "markdown",
   "metadata": {},
   "source": [
    "set和dict类似，也是一组key的集合，但不存储value。由于key不能重复，所以，在set中，没有重复的key"
   ]
  },
  {
   "cell_type": "code",
   "execution_count": null,
   "metadata": {},
   "outputs": [],
   "source": [
    "# 集合的创建\n",
    "s = set([1, 2, 3])\n",
    "print(s) #{1, 2, 3}\n",
    "s2 = set([1, 1, 2, 2, 3, 3])\n",
    "print(s2) #{1, 2, 3}"
   ]
  },
  {
   "cell_type": "code",
   "execution_count": null,
   "metadata": {},
   "outputs": [],
   "source": [
    "# 增加元素\n",
    "s = set([1, 2, 3])\n",
    "s.add(4)\n",
    "print(s) #{1, 2, 3, 4}\n",
    "s.add(4)\n",
    "print(s) #重复添加无效，仍然是{1, 2, 3, 4}"
   ]
  },
  {
   "cell_type": "code",
   "execution_count": null,
   "metadata": {},
   "outputs": [],
   "source": [
    "# 删除元素\n",
    "s = set([1, 2, 3])\n",
    "s.remove(3)\n",
    "print(s) #{1, 2}"
   ]
  },
  {
   "cell_type": "code",
   "execution_count": null,
   "metadata": {},
   "outputs": [],
   "source": [
    "# 集合的交集并集操作\n",
    "s1 = set([1, 2, 3])\n",
    "s2 = set([2, 3, 4])\n",
    "print(s1 & s2) #交集{2, 3}\n",
    "print(s1 | s2) #并集{1, 2, 3, 4}"
   ]
  },
  {
   "cell_type": "markdown",
   "metadata": {},
   "source": [
    "## 切片"
   ]
  },
  {
   "cell_type": "code",
   "execution_count": null,
   "metadata": {},
   "outputs": [],
   "source": [
    "names=['A','B','C','D','E','F','G']\n",
    "print(names[0:3]) #列表前3个元素，0、1、2号，输出['A', 'B', 'C']\n",
    "print(names[:4]) #没有指定第一个索引，则默认从头开始，输出['A', 'B', 'C', 'D']\n",
    "print(names[4:]) #没有指定第二个索引，则默认到尾结束，输出['E', 'F', 'G']\n",
    "print(names[-3:]) #输出最后三个元素，['E', 'F', 'G']\n",
    "考虑步长list[a:b:c],C>0,a默认为0，b默认为最后一个\n",
    "print(names[1:6:2])#从1到6，['B', 'D', 'F']\n",
    "print(names[:6:2]) #默认a为0，从0到6,['A', 'C', 'E']\n",
    "print(names[1::2]) #默认b为最后一个，['B', 'D', 'F']\n",
    "print(names[::2]) #['A', 'C', 'E', 'G']\n",
    "考虑步长list[a:b:c],C<0,a默认为-1，b默认为第一个（-len(list)-1)\n",
    "print(names[6:1:-2])  #['G', 'E', 'C']\n",
    "print(names[:3:-1]) #a默认为-1,['G', 'F', 'E']\n",
    "print(names[5::-1]) #b默认为第一个，['F', 'E', 'D', 'C', 'B', 'A']\n",
    "print(names[::-1]) #整个倒序['G', 'F', 'E', 'D', 'C', 'B', 'A']"
   ]
  },
  {
   "cell_type": "markdown",
   "metadata": {},
   "source": [
    "## 迭代"
   ]
  },
  {
   "cell_type": "code",
   "execution_count": null,
   "metadata": {},
   "outputs": [],
   "source": [
    "names=['bob','lily','david']\n",
    "for name in names:\n",
    "    print(name)\n",
    "for x, y in [(1, 1), (2, 4), (3, 9)]:\n",
    "    print(x, y)\n",
    "# enumerate能够把一个list变成索引-元素对，实现同时迭代索引和元素本身\n",
    "for i,name in enumerate(names):\n",
    "    print(i,name)"
   ]
  },
  {
   "cell_type": "markdown",
   "metadata": {},
   "source": [
    "## 列表生成式"
   ]
  },
  {
   "cell_type": "code",
   "execution_count": null,
   "metadata": {},
   "outputs": [],
   "source": [
    "squares=[value**2 for value in range(1,10)]\n",
    "print(squares) #输出[1, 4, 9, 16, 25, 36, 49, 64, 81]\n",
    "squares2=[value**2 for value in range(1,10) if value>3]\n",
    "print(squares2) #输出[16, 25, 36, 49, 64, 81]\n",
    "squares3=[value**2 for value in range(1,10) if value>3 and value<8]\n",
    "print(squares3) #[16, 25, 36, 49]\n",
    "s=[m + n for m in 'ABC' for n in 'XYZ'] #两层循环生成全排列\n",
    "print(s) #['AX', 'AY', 'AZ', 'BX', 'BY', 'BZ', 'CX', 'CY', 'CZ']\n",
    "# format同样实现列表生成功能"
   ]
  },
  {
   "cell_type": "markdown",
   "metadata": {},
   "source": [
    "## 生成器"
   ]
  },
  {
   "cell_type": "markdown",
   "metadata": {},
   "source": [
    "生成器：generator,可以在循环的过程中不断推算出后续的元素呢？这样就不必创建完整的list，从而节省大量的空间"
   ]
  },
  {
   "cell_type": "code",
   "execution_count": null,
   "metadata": {},
   "outputs": [],
   "source": [
    "# 创建方法一：把一个列表生成式的[]改成()\n",
    "g = (x * x for x in range(10)) #和list区别仅在于最外层的[]和()\n",
    "print(next(g)) #0\n",
    "print(next(g)) #1\n",
    "g = (x * x for x in range(10))\n",
    "for n in g:\n",
    "    print(n)"
   ]
  },
  {
   "cell_type": "code",
   "execution_count": null,
   "metadata": {},
   "outputs": [],
   "source": [
    "# 创建方法二：在一个函数定义中包含yield关键字\n",
    "# yield 是一个类似 return 的关键字，迭代一次遇到yield时就返回yield后面(右边)的值。\n",
    "# 重点是：下一次迭代时，从上一次迭代遇到的yield后面的代码(下一行)开始执行。\n",
    "def yield_test(n):\n",
    "    for i in range(n):\n",
    "        yield call(i)\n",
    "        print(\"i=\", i)\n",
    "        # 做一些其它的事情\n",
    "    print(\"do something.\")\n",
    "    print(\"end.\")\n",
    "def call(i):\n",
    "    return i * 2\n",
    "for i in yield_test(5):\n",
    "    print(i, \",\")"
   ]
  },
  {
   "cell_type": "markdown",
   "metadata": {},
   "source": [
    "## 迭代器"
   ]
  },
  {
   "cell_type": "markdown",
   "metadata": {},
   "source": [
    "1、可迭代对象Iterable:  \n",
    "可以直接作用于for循环的对象，可以使用isinstance()判断一个对象是否是Iterable对象  \n",
    "isinstance([], Iterable)  #True  \n",
    "2、迭代器：Iterator  \n",
    "可以被next()函数调用并不断返回下一个值的对象，可以使用isinstance()判断一个对象是否是Iterator对象  \n",
    "isinstance((x for x in range(10)), Iterator) #True  \n",
    "3、Iterable转Iterator  \n",
    "生成器都是Iterator对象，但list、dict、str虽然是Iterable，却不是Iterator。  \n",
    "把list、dict、str等Iterable变成Iterator可以使用iter()函数：  \n",
    "isinstance(iter([]), Iterator) #True"
   ]
  }
 ],
 "metadata": {
  "kernelspec": {
   "display_name": "Python 3",
   "language": "python",
   "name": "python3"
  },
  "language_info": {
   "codemirror_mode": {
    "name": "ipython",
    "version": 3
   },
   "file_extension": ".py",
   "mimetype": "text/x-python",
   "name": "python",
   "nbconvert_exporter": "python",
   "pygments_lexer": "ipython3",
   "version": "3.6.5"
  },
  "toc": {
   "base_numbering": 1,
   "nav_menu": {},
   "number_sections": true,
   "sideBar": true,
   "skip_h1_title": false,
   "title_cell": "Table of Contents",
   "title_sidebar": "Contents",
   "toc_cell": false,
   "toc_position": {},
   "toc_section_display": true,
   "toc_window_display": true
  }
 },
 "nbformat": 4,
 "nbformat_minor": 2
}
