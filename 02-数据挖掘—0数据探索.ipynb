{
 "cells": [
  {
   "cell_type": "code",
   "execution_count": 1,
   "metadata": {},
   "outputs": [],
   "source": [
    "# -*- coding:utf-8 -*-\n",
    "import matplotlib.pyplot as plt\n",
    "import numpy as np\n",
    "import seaborn as sns\n",
    "import pandas as pd\n",
    "import warnings\n",
    "warnings.filterwarnings(\"ignore\")\n",
    "%matplotlib inline\n",
    "\n",
    "# 解决中文显示问题\n",
    "plt.rcParams['font.sans-serif']=['SimHei']\n",
    "plt.rcParams['axes.unicode_minus']=False"
   ]
  },
  {
   "cell_type": "code",
   "execution_count": null,
   "metadata": {},
   "outputs": [],
   "source": [
    "data_train = pd.read_table('data/leads_score_train_pos_data1.txt')"
   ]
  },
  {
   "cell_type": "markdown",
   "metadata": {},
   "source": [
    "### 缺失查看、处理"
   ]
  },
  {
   "cell_type": "code",
   "execution_count": null,
   "metadata": {},
   "outputs": [],
   "source": [
    "\"\"\"列不同值数目、列空缺占比、最大单值占比、类型查看\"\"\"\n",
    "stats = []\n",
    "for col in data_train.columns:\n",
    "    stats.append((col, data_train[col].nunique(), data_train[col].isnull().sum() * 100 / data_train.shape[0], data_train[col].value_counts(normalize=True, dropna=False).values[0] * 100, data_train[col].dtype))\n",
    "\n",
    "stats_df = pd.DataFrame(stats, columns=['Feature', 'Unique_values', 'Percentage of missing values', 'Percentage of values in the biggest category', 'type'])\n",
    "stats_df.sort_values('Percentage of missing values', ascending=False)[:50]\n",
    "\n",
    "\"\"\"行、列空缺占比查看\"\"\"\n",
    "# column_missing_rate = (data_train.shape[0] - data_train.count())/data_train.shape[0]\n",
    "# row_missing_rate = (data_train.shape[1] - data_train.T.count())/data_train.shape[1]\n",
    "\n",
    "\n",
    "# cols_drop = stats_df[(stats_df['Percentage of missing values']>99)|(stats_df['Percentage of values in the biggest category']>99)]['Feature']\n",
    "# data = data_train.drop(cols_drop,axis=1)"
   ]
  },
  {
   "cell_type": "markdown",
   "metadata": {},
   "source": [
    "### 分布查看"
   ]
  },
  {
   "cell_type": "code",
   "execution_count": null,
   "metadata": {},
   "outputs": [],
   "source": [
    "# 离散变量分布统计\n",
    "plt.figure(figsize=(15,6))\n",
    "sns.countplot(x=\"called_suc_cnt\",data=data_train)\n",
    "plt.show()"
   ]
  },
  {
   "cell_type": "code",
   "execution_count": null,
   "metadata": {},
   "outputs": [],
   "source": [
    "# 连续变量分布统计\n",
    "x = np.random.normal(size=2000)\n",
    "sns.distplot(x,bins=20,hist=True,kde=True) #直方+核函数\n",
    "plt.show()"
   ]
  },
  {
   "cell_type": "code",
   "execution_count": null,
   "metadata": {},
   "outputs": [],
   "source": [
    "# 离散自变量与连续因变量关系分析\n",
    "plt.figure(figsize=(15,6))\n",
    "sns.barplot(x=\"100_visit_days\", y=\"if_pay\", data=data_train)\n",
    "plt.show()"
   ]
  },
  {
   "cell_type": "code",
   "execution_count": null,
   "metadata": {},
   "outputs": [],
   "source": [
    "# 连续自变量与离散因变量分析\n",
    "from scipy.stats import norm\n",
    "\n",
    "x1 = np.random.normal(size=2000)\n",
    "x2 = np.random.normal(size=2000)\n",
    "# plt.figure(figsize=(15,6))\n",
    "fig,ax = plt.subplots(1,1,figsize=(15,6))\n",
    "\n",
    "sns.distplot(data_train[data_train['if_pay']==0]['last_create_time'],bins=range(0,1000,10),hist=True,kde=True,color=\"r\",ax=ax) #直方+核函数\n",
    "sns.distplot(data_train[data_train['if_pay']==1]['last_create_time'],bins=range(0,1000,10),hist=True,kde=True,color=\"g\",ax=ax) #直方+核函数\n",
    "plt.show()"
   ]
  }
 ],
 "metadata": {
  "kernelspec": {
   "display_name": "Python 3",
   "language": "python",
   "name": "python3"
  },
  "language_info": {
   "codemirror_mode": {
    "name": "ipython",
    "version": 3
   },
   "file_extension": ".py",
   "mimetype": "text/x-python",
   "name": "python",
   "nbconvert_exporter": "python",
   "pygments_lexer": "ipython3",
   "version": "3.7.6"
  },
  "toc": {
   "base_numbering": 1,
   "nav_menu": {},
   "number_sections": true,
   "sideBar": true,
   "skip_h1_title": false,
   "title_cell": "Table of Contents",
   "title_sidebar": "Contents",
   "toc_cell": false,
   "toc_position": {
    "height": "calc(100% - 180px)",
    "left": "10px",
    "top": "150px",
    "width": "307px"
   },
   "toc_section_display": true,
   "toc_window_display": false
  }
 },
 "nbformat": 4,
 "nbformat_minor": 2
}
